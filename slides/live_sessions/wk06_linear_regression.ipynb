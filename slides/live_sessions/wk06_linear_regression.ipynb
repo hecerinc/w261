{
  "nbformat": 4,
  "nbformat_minor": 0,
  "metadata": {
    "colab": {
      "provenance": []
    },
    "kernelspec": {
      "name": "python3",
      "display_name": "Python 3"
    },
    "language_info": {
      "name": "python"
    }
  },
  "cells": [
    {
      "cell_type": "code",
      "execution_count": null,
      "metadata": {
        "colab": {
          "base_uri": "https://localhost:8080/"
        },
        "id": "eoKOtk1ZM284",
        "outputId": "a99a731b-5e68-4923-ea06-84cbdce9997c"
      },
      "outputs": [
        {
          "output_type": "stream",
          "name": "stdout",
          "text": [
            "Looking in indexes: https://pypi.org/simple, https://us-python.pkg.dev/colab-wheels/public/simple/\n",
            "Collecting pyspark\n",
            "  Downloading pyspark-3.4.0.tar.gz (310.8 MB)\n",
            "\u001b[2K     \u001b[90m━━━━━━━━━━━━━━━━━━━━━━━━━━━━━━━━━━━━━━━\u001b[0m \u001b[32m310.8/310.8 MB\u001b[0m \u001b[31m5.0 MB/s\u001b[0m eta \u001b[36m0:00:00\u001b[0m\n",
            "\u001b[?25h  Preparing metadata (setup.py) ... \u001b[?25l\u001b[?25hdone\n",
            "Requirement already satisfied: py4j==0.10.9.7 in /usr/local/lib/python3.10/dist-packages (from pyspark) (0.10.9.7)\n",
            "Building wheels for collected packages: pyspark\n",
            "  Building wheel for pyspark (setup.py) ... \u001b[?25l\u001b[?25hdone\n",
            "  Created wheel for pyspark: filename=pyspark-3.4.0-py2.py3-none-any.whl size=311317130 sha256=cc158488d8933593d74081c84976ae1e6cdf8f9986c2a4455bae24a520ad21d4\n",
            "  Stored in directory: /root/.cache/pip/wheels/7b/1b/4b/3363a1d04368e7ff0d408e57ff57966fcdf00583774e761327\n",
            "Successfully built pyspark\n",
            "Installing collected packages: pyspark\n",
            "Successfully installed pyspark-3.4.0\n"
          ]
        }
      ],
      "source": [
        "# run this cell as is to install PySpark\n",
        "!pip install pyspark"
      ]
    },
    {
      "cell_type": "code",
      "source": [
        "# Start PySpark\n",
        "from pyspark.sql import SparkSession\n",
        "\n",
        "try:\n",
        "    spark\n",
        "    print(\"Spark is already running\")\n",
        "    print(f\"{sc.master} appName: {sc.appName}\")\n",
        "except NameError:\n",
        "    print('starting Spark')\n",
        "    app_name = 'OTP_starter_phase'\n",
        "    master = \"local[*]\"\n",
        "    spark = SparkSession\\\n",
        "            .builder\\\n",
        "            .appName(app_name)\\\n",
        "            .config('spark.ui.port', '4050')\\\n",
        "            .master(master)\\\n",
        "            .getOrCreate()\n",
        "sc = spark.sparkContext\n"
      ],
      "metadata": {
        "colab": {
          "base_uri": "https://localhost:8080/"
        },
        "id": "nG-f185zM6ez",
        "outputId": "6bdde1a1-990b-476e-e55f-646e2bd9a455"
      },
      "execution_count": null,
      "outputs": [
        {
          "output_type": "stream",
          "name": "stdout",
          "text": [
            "starting Spark\n"
          ]
        }
      ]
    },
    {
      "cell_type": "code",
      "source": [
        "# TEST write to blob storage\n",
        "# Write CSV file with column header (column names)\n",
        "\n",
        "from pyspark.sql.types import StructType,StructField, StringType, IntegerType\n",
        "data2 = [(\"James\",\"\",\"Smith\",\"36636\",\"M\",3000),\n",
        "    (\"Michael\",\"Rose\",\"\",\"40288\",\"M\",4000),\n",
        "    (\"Robert\",\"\",\"Williams\",\"42114\",\"M\",4000),\n",
        "    (\"Maria\",\"Anne\",\"Jones\",\"39192\",\"F\",4000),\n",
        "    (\"Jen\",\"Mary\",\"Brown\",\"\",\"F\",-1)\n",
        "  ]\n",
        "\n",
        "schema = StructType([ \\\n",
        "    StructField(\"firstname\",StringType(),True), \\\n",
        "    StructField(\"middlename\",StringType(),True), \\\n",
        "    StructField(\"lastname\",StringType(),True), \\\n",
        "    StructField(\"id\", StringType(), True), \\\n",
        "    StructField(\"gender\", StringType(), True), \\\n",
        "    StructField(\"salary\", IntegerType(), True) \\\n",
        "  ])\n",
        "\n",
        "df = spark.createDataFrame(data=data2,schema=schema)\n",
        "df.printSchema()\n",
        "df.show(truncate=False)\n",
        "\n",
        "# two CSV PART00000 file\n",
        "df.repartition(2).write.mode('overwrite').options(header='True', delimiter=',')  \\\n",
        " .csv(f\"test_tmp_csv\")\n",
        "!ls -l test_tmp_csv # two part-0000\n"
      ],
      "metadata": {
        "colab": {
          "base_uri": "https://localhost:8080/"
        },
        "id": "szSVlEcoNB4t",
        "outputId": "17bb8960-ef8d-42e9-b937-7f118c498878"
      },
      "execution_count": null,
      "outputs": [
        {
          "output_type": "stream",
          "name": "stdout",
          "text": [
            "root\n",
            " |-- firstname: string (nullable = true)\n",
            " |-- middlename: string (nullable = true)\n",
            " |-- lastname: string (nullable = true)\n",
            " |-- id: string (nullable = true)\n",
            " |-- gender: string (nullable = true)\n",
            " |-- salary: integer (nullable = true)\n",
            "\n",
            "+---------+----------+--------+-----+------+------+\n",
            "|firstname|middlename|lastname|id   |gender|salary|\n",
            "+---------+----------+--------+-----+------+------+\n",
            "|James    |          |Smith   |36636|M     |3000  |\n",
            "|Michael  |Rose      |        |40288|M     |4000  |\n",
            "|Robert   |          |Williams|42114|M     |4000  |\n",
            "|Maria    |Anne      |Jones   |39192|F     |4000  |\n",
            "|Jen      |Mary      |Brown   |     |F     |-1    |\n",
            "+---------+----------+--------+-----+------+------+\n",
            "\n",
            "total 8\n",
            "-rw-r--r-- 1 root root  98 Jun 14 21:07 part-00000-e5afe113-6b2e-4ba0-a406-091617550931-c000.csv\n",
            "-rw-r--r-- 1 root root 138 Jun 14 21:07 part-00001-e5afe113-6b2e-4ba0-a406-091617550931-c000.csv\n",
            "-rw-r--r-- 1 root root   0 Jun 14 21:07 _SUCCESS\n"
          ]
        }
      ]
    },
    {
      "cell_type": "code",
      "source": [],
      "metadata": {
        "id": "HKZ56h5a33DD"
      },
      "execution_count": null,
      "outputs": []
    },
    {
      "cell_type": "markdown",
      "source": [
        "# In Spark Learn a  linear regression via gradient descent\n",
        "\n",
        "\n",
        "$$ \\hat{y} = mx + b $$\n",
        "\n",
        "Note we $\\hat{y}$ as to represent a prediction or estimate of $f(x)$\n",
        "\n",
        "$$ error_i = \\hat{y_i}  - y_i$$\n",
        "\n",
        "## Calculate the MSE for the following example in spark\n",
        "**Linear Regression model prediction (in vectorized form)**\n",
        "\n",
        "\n",
        "$$\n",
        "\\hat{y} = h_{\\mathbf{\\theta}}(\\mathbf{X}) = \\mathbf{X} \\cdot \\mathbf{\\theta}\n",
        "$$\n",
        "\n",
        "\n",
        "\n"
      ],
      "metadata": {
        "id": "YRSGbOeG33_w"
      }
    },
    {
      "cell_type": "code",
      "source": [
        "import numpy as np\n",
        "# Simple linear regression\n",
        "#           X             y\n",
        "X_y =  [[  0.39050803,  -1.20623543],\n",
        "       [  1.72151493,  13.57377242],\n",
        "       [  0.82210701,   5.50818095],\n",
        "       [  0.35906546,  -2.19996366],\n",
        "       [ -0.61076161,  -3.90958845],\n",
        "       [  1.1671529 ,  11.12900159],\n",
        "       [ -0.49930231,  -3.63685934],\n",
        "       [  3.13418401,  22.71362238],\n",
        "       [  3.70930208,  25.53291143]]\n",
        "\n",
        "data_rdd = sc.parallelize(X_y).cache()\n",
        "# The true y = 8x - 2.\n",
        "#.  [b, m]\n",
        "W = [-2, 8]  # model\n",
        "wBroadcast = sc.broadcast(W)  # make available in memory as read-only to the executors (for mappers and reducers)\n",
        "MSE  = data_rdd.map(lambda d: (np.dot(........, wBroadcast.value) - d[-1])**2).mean()\n",
        "print(f\"MSE:{MSE}\")\n"
      ],
      "metadata": {
        "id": "cuW2KkXA3x6K"
      },
      "execution_count": null,
      "outputs": []
    },
    {
      "cell_type": "code",
      "source": [
        "import numpy as np\n",
        "# Simple linear regression\n",
        "#           X             y\n",
        "# NON-augmented data\n",
        "X_y =  [[  0.39050803,  -1.20623543],\n",
        "       [  1.72151493,  13.57377242],\n",
        "       [  0.82210701,   5.50818095],\n",
        "       [  0.35906546,  -2.19996366],\n",
        "       [ -0.61076161,  -3.90958845],\n",
        "       [  1.1671529 ,  11.12900159],\n",
        "       [ -0.49930231,  -3.63685934],\n",
        "       [  3.13418401,  22.71362238],\n",
        "       [  3.70930208,  25.53291143]]\n",
        "\n",
        "data_rdd = sc.parallelize(X_y).cache()\n",
        "# The true y = 8x - 2.\n",
        "#.  [b, m]\n",
        "W = [-2, 8]  # AUGMENTED model\n",
        "wBroadcast = sc.broadcast(W)  # make available in memory as read-only to the executors (for mappers and reducers)\n",
        "#                     (                    Xw                                   - y)**2\n",
        "# gradient  (Xw - y) X\n",
        "MSE  = data_rdd.map(lambda d: (np.dot(np.append(1, d[:-1]), wBroadcast.value) - d[-1])**2).mean()\n",
        "print(f\"MSE:{MSE}\")\n"
      ],
      "metadata": {
        "colab": {
          "base_uri": "https://localhost:8080/"
        },
        "id": "5IjGaBGiNFvE",
        "outputId": "9479a86f-6914-4cb8-d101-861e5bb4ac28"
      },
      "execution_count": null,
      "outputs": [
        {
          "output_type": "stream",
          "name": "stdout",
          "text": [
            "MSE:5.832730881179018\n"
          ]
        }
      ]
    },
    {
      "cell_type": "code",
      "source": [
        "import numpy as np\n",
        "\n",
        "def generate_data(w=[0,0], size=100):\n",
        "    np.random.seed(0)\n",
        "    x = np.random.uniform(-4, 4, size)\n",
        "    noise = np.random.normal(0, 2, size)\n",
        "    y = (x * w[1] + w[0] + noise)\n",
        "    X_y = np.c_[x, y]\n",
        "    return X_y\n",
        "\n",
        "# The true y = 8x - 2.  giving a weight vector of [-2, 8]\n",
        "X_y = generate_data([-2, 8], 100)\n",
        "X_y[:10]"
      ],
      "metadata": {
        "colab": {
          "base_uri": "https://localhost:8080/"
        },
        "id": "agJG3H7fNMlS",
        "outputId": "53691aa1-a3bf-4155-fc14-ba586faedcb4"
      },
      "execution_count": null,
      "outputs": [
        {
          "output_type": "execute_result",
          "data": {
            "text/plain": [
              "array([[ 0.39050803, -1.20623543],\n",
              "       [ 1.72151493, 13.57377242],\n",
              "       [ 0.82210701,  5.50818095],\n",
              "       [ 0.35906546, -2.19996366],\n",
              "       [-0.61076161, -3.90958845],\n",
              "       [ 1.1671529 , 11.12900159],\n",
              "       [-0.49930231, -3.63685934],\n",
              "       [ 3.13418401, 22.71362238],\n",
              "       [ 3.70930208, 25.53291143],\n",
              "       [-0.93246785, -7.35083934]])"
            ]
          },
          "metadata": {},
          "execution_count": 6
        }
      ]
    },
    {
      "cell_type": "code",
      "source": [
        "# general imports\n",
        "import sys\n",
        "import csv\n",
        "import numpy as np\n",
        "import pandas as pd\n",
        "import matplotlib\n",
        "import matplotlib.pyplot as plt\n",
        "import seaborn as sns\n",
        "import re\n",
        "import ast\n",
        "import time\n",
        "import itertools\n",
        "from IPython.display import Image\n",
        "from matplotlib import cm\n",
        "from mpl_toolkits.mplot3d import Axes3D\n",
        "\n",
        "# magic commands\n",
        "%matplotlib inline\n",
        "%reload_ext autoreload\n",
        "%autoreload 2\n",
        "\n",
        "def plot_model(samples, model, name, title=None):\n",
        "    \"\"\"\n",
        "    Plot a model the and samples observed from the population.\n",
        "    INPUT:  samples    - numpy array of points (x, y)\n",
        "            model      - [W, b] where Y = Wx + b\n",
        "            title      - (optional) figure title\n",
        "    \"\"\"\n",
        "\n",
        "    # create plot\n",
        "    fig, ax = plt.subplots()\n",
        "\n",
        "    # plot samples\n",
        "    ax.plot(X_y[:,0], X_y[:,1],'o')\n",
        "    domain = [min(X_y[:,0]), max(X_y[:,0])]\n",
        "\n",
        "    # plot model line\n",
        "    w0 , w1 = model[0], model[1]\n",
        "    yvals = [w1*x + w0 for x in domain]\n",
        "    ax.plot(domain, yvals, linewidth=3, label=name)\n",
        "    plt.legend(bbox_to_anchor=(1.05, 1), loc=2, borderaxespad=0.)\n",
        "    plt.xlabel(\"x\")\n",
        "    plt.ylabel(\"y\")\n",
        "    plt.grid()\n",
        "    # title\n",
        "    if title:\n",
        "        plt.title(title)\n",
        "# The true y = 8x - 2.\n",
        "model = [-2, 8]\n",
        "\n",
        "# generate samples\n",
        "X_y = generate_data(model, 100)\n",
        "\n",
        "plot_model(X_y, model, 'y=8x-2', 'Model and sample data')\n"
      ],
      "metadata": {
        "colab": {
          "base_uri": "https://localhost:8080/",
          "height": 472
        },
        "id": "cO79nojMPAde",
        "outputId": "67df70e8-1901-4501-a7bb-e40a3f2f38b8"
      },
      "execution_count": null,
      "outputs": [
        {
          "output_type": "display_data",
          "data": {
            "text/plain": [
              "<Figure size 640x480 with 1 Axes>"
            ],
            "image/png": "[encoded data removed]"
          },
          "metadata": {}
        }
      ]
    },
    {
      "cell_type": "code",
      "source": [
        "X_y_rdd = sc.parallelize(X_y).cache()\n",
        "X_y_rdd.take(5)"
      ],
      "metadata": {
        "colab": {
          "base_uri": "https://localhost:8080/"
        },
        "id": "EyXbjxIWPFTk",
        "outputId": "2372cb2e-37f4-469d-b6c5-ab7207c0d071"
      },
      "execution_count": null,
      "outputs": [
        {
          "output_type": "execute_result",
          "data": {
            "text/plain": [
              "[array([ 0.39050803, -1.20623543]),\n",
              " array([ 1.72151493, 13.57377242]),\n",
              " array([0.82210701, 5.50818095]),\n",
              " array([ 0.35906546, -2.19996366]),\n",
              " array([-0.61076161, -3.90958845])]"
            ]
          },
          "metadata": {},
          "execution_count": 8
        }
      ]
    },
    {
      "cell_type": "code",
      "source": [
        "def compute_LR_MSE(data_rdd, W=[0,0]):\n",
        "    \"\"\" compute the MSE  for the provided linear regression model W over the data RDD where each record is of the form (X, y)\n",
        "    INPUT:  data_rdd    -  an RDD where each record of the form  (X,y) = data[:-1], data[-1]\n",
        "            W           -  a vector of weights, where W[0] corresponds to the y-intercept\n",
        "\n",
        "    \"\"\"\n",
        "\n",
        "    wBroadcast = sc.broadcast(W)  # make available in memory as read-only to the executors (for mappers and reducers)\n",
        "    #                                                     ( Xw                    -     y)**2\n",
        "    return data_rdd.map(lambda d: (np.dot(np.append(1, d[:-1]), wBroadcast.value) - d[-1])**2).mean()\n",
        "\n",
        "model = [0,0]\n",
        "mean_squared_error = compute_LR_MSE(X_y_rdd, model)\n",
        "print(f\"the MSE of the  model is {model} is {mean_squared_error:.5}\")\n",
        "\n",
        "model = [-2,8]\n",
        "mean_squared_error = compute_LR_MSE(X_y_rdd, model)\n",
        "print(f\"the MSE of the  model {model} is {mean_squared_error:.5}\")\n",
        "\n",
        "#the MSE of the  model [0, 0] is 354.35\n",
        "#the MSE of the  model [-2, 8] is 4.119"
      ],
      "metadata": {
        "colab": {
          "base_uri": "https://localhost:8080/"
        },
        "id": "NuzY3FQOPcaI",
        "outputId": "919393fe-b5c9-41d5-f524-8cae1a001af6"
      },
      "execution_count": null,
      "outputs": [
        {
          "output_type": "stream",
          "name": "stdout",
          "text": [
            "the MSE of the  model is [0, 0] is 354.35\n",
            "the MSE of the  model [-2, 8] is 4.119\n"
          ]
        }
      ]
    },
    {
      "cell_type": "markdown",
      "source": [
        "### Quiz: Calculate the gradient\n",
        "\n",
        "Given that MSE is calculated as follows:\n",
        "\n",
        "\n",
        "$\n",
        "\\text{MSE}({\\mathbf{\\theta}}; \\mathbf{X}, \\mathbf{y}) = \\dfrac{1}{m} \\sum\\limits_{i=1}^{m}{( \\mathbf{x}^{(i)}\\cdot \\mathbf{\\theta} - y^{(i)})^2}\n",
        "$\n",
        "\n",
        "which translates to the following in Spark:\n",
        "```python\n",
        "data_rdd.map(lambda d: (np.dot(np.append(1, d[:-1]), wBroadcast.value) - d[-1])**2).mean()\n",
        "```\n",
        "\n",
        "Modify this code to get the gradient wrt to an example.\n",
        "\n",
        "**Gradient vector of the cost function vectorized**\n",
        "\n",
        "$\n",
        "\\begin{aligned}\n",
        "\\nabla_\\text{MSE}(\\mathbf{\\theta}) &=\n",
        "\\begin{pmatrix}\n",
        " \\frac{\\partial}{\\partial \\theta_0} \\text{MSE}(\\mathbf{\\theta}) \\\\\n",
        " \\frac{\\partial}{\\partial \\theta_1} \\text{MSE}(\\mathbf{\\theta}) \\\\\n",
        " \\vdots \\\\\n",
        " \\frac{\\partial}{\\partial \\theta_n} \\text{MSE}(\\mathbf{\\theta})\n",
        "\\end{pmatrix}\\\\\n",
        " &= \\dfrac{2}{m} \\mathbf{X}^T \\cdot (\\mathbf{X} \\cdot \\mathbf{\\theta} - \\mathbf{y})\\\\\n",
        "\\nabla_\\text{MSE}(\\mathbf{\\theta}) &= \\dfrac{2}{m} x *               (\\mathbf{x} \\cdot \\mathbf{\\theta} - \\mathbf{y})  \\text{ for a single example}\\\\\n",
        "\\nabla_\\text{MSE}(\\mathbf{\\theta}) &=  x *               (\\mathbf{x} \\cdot \\mathbf{\\theta} - \\mathbf{y})  \\text{ for a single example}\n",
        "\\end{aligned}\n",
        "$\n"
      ],
      "metadata": {
        "id": "ePB_Sk8iP-ef"
      }
    },
    {
      "cell_type": "code",
      "source": [
        "MSE  = data_rdd.map(lambda d: (np.dot(np.append(1, d[:-1]), wBroadcast.value) - d[-1])**2).mean()\n",
        "\n",
        "# gradient = (Xw - y) X\n",
        "# gradient  =    X         *        (               Xw             -     y)**2\n",
        "gradient  = X_y_rdd.map(lambda d: ......... * (np.dot(np.append(1, d[:-1]), wBroadcast.value) - d[-1])).mean()\n",
        "print(f\"gradient:{gradient}\")"
      ],
      "metadata": {
        "id": "WFXWqqXHPhHg"
      },
      "execution_count": null,
      "outputs": []
    },
    {
      "cell_type": "markdown",
      "source": [
        "#### Solution to Quiz: Calculate the gradient\n"
      ],
      "metadata": {
        "id": "r9D76AY-QUkY"
      }
    },
    {
      "cell_type": "code",
      "source": [
        "# gradient = (Xw - y) X\n",
        "# gradient  =                               X         *         (               Xw                      -     y)\n",
        "gradient  = X_y_rdd.map(lambda d: np.append(1,d[:-1]) * (np.dot(np.append(1, d[:-1]), wBroadcast.value) - d[-1])).mean()\n",
        "print(f\"FULL gradient:{gradient}\")"
      ],
      "metadata": {
        "colab": {
          "base_uri": "https://localhost:8080/"
        },
        "id": "BnQ4xDtzQZdl",
        "outputId": "079486a6-d95f-49ee-f1ee-a66aa422d71e"
      },
      "execution_count": null,
      "outputs": [
        {
          "output_type": "stream",
          "name": "stdout",
          "text": [
            "FULL gradient:[-0.38466869  0.16759204]\n"
          ]
        }
      ]
    },
    {
      "cell_type": "code",
      "source": [
        "learning_rate = 0.0001\n",
        "\n",
        "for i in range (100):\n",
        "  gradient  = X_y_rdd.map(lambda d: np.append(1,d[:-1]) * (np.dot(np.append(1, d[:-1]), wBroadcast.value) - d[-1])).mean()\n",
        "  W -= learning_rate*gradient"
      ],
      "metadata": {
        "id": "C6zqhuK-QbiA"
      },
      "execution_count": null,
      "outputs": []
    }
  ]
}