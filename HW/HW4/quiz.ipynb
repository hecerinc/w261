{
 "cells": [
  {
   "cell_type": "markdown",
   "id": "2b45e477-e91e-4b58-9f00-e5643d519b7f",
   "metadata": {},
   "source": [
    "# Quiz processing"
   ]
  },
  {
   "cell_type": "markdown",
   "id": "0c42af11-e924-4b18-a35c-c4d5818a7e6b",
   "metadata": {},
   "source": [
    "## Q4 - Calculate the MSE"
   ]
  },
  {
   "cell_type": "code",
   "execution_count": 1,
   "id": "17e4eb34-57d7-445a-89dd-53763b34eaf4",
   "metadata": {},
   "outputs": [
    {
     "name": "stdout",
     "output_type": "stream",
     "text": [
      "MSE is : 4.0\n"
     ]
    }
   ],
   "source": [
    "import numpy as np\n",
    "\n",
    "X = np.array([[1, 2, 1, 2]]) # one training example\n",
    "w = np.array([2, -1, -2, 4])  # linear regression model\n",
    "y = [4.0]                    # target\n",
    "\n",
    "#####\n",
    "m = 1\n",
    "y_pred = np.dot(X, w)\n",
    "MSE = 1/float(m) * np.dot((y_pred - y), (y_pred - y))\n",
    "\n",
    "#####\n",
    "print(f\"MSE is : {MSE:.3}\")"
   ]
  },
  {
   "cell_type": "markdown",
   "id": "2706c44d-4f97-4fdf-9ca0-76520a135d6d",
   "metadata": {},
   "source": [
    "## Q6 - Gradient descent step"
   ]
  },
  {
   "cell_type": "code",
   "execution_count": 5,
   "id": "2b8196b8-fb06-431d-bea3-ee03f0db4146",
   "metadata": {},
   "outputs": [
    {
     "name": "stdout",
     "output_type": "stream",
     "text": [
      "[ 3.25 -3.15 -5.1   6.5 ]\n"
     ]
    }
   ],
   "source": [
    "X = np.array([[1,2,1,2],[1,1,2,2]])\n",
    "w = np.array([4, -2, -4, 8])\n",
    "eta = 0.05\n",
    "Y= np.array([4, 3])\n",
    "w = w-eta*np.dot((np.dot(X,w)-Y),X)\n",
    "print(w)"
   ]
  },
  {
   "cell_type": "code",
   "execution_count": 6,
   "id": "e44be8df-9e2b-4d58-8d7f-9619c6ac8d63",
   "metadata": {},
   "outputs": [
    {
     "data": {
      "text/plain": [
       "0.8"
      ]
     },
     "execution_count": 6,
     "metadata": {},
     "output_type": "execute_result"
    }
   ],
   "source": [
    "4/5"
   ]
  },
  {
   "cell_type": "markdown",
   "id": "2462e835-1c94-4ff2-946f-4d055484b4e9",
   "metadata": {},
   "source": [
    "## Q10"
   ]
  },
  {
   "cell_type": "code",
   "execution_count": 2,
   "id": "764edb24-8bc6-420f-95fe-92f2cdb55a1b",
   "metadata": {},
   "outputs": [
    {
     "name": "stdout",
     "output_type": "stream",
     "text": [
      "The TRUE linear model is:\n"
     ]
    },
    {
     "data": {
      "text/html": [
       "<div>\n",
       "<style scoped>\n",
       "    .dataframe tbody tr th:only-of-type {\n",
       "        vertical-align: middle;\n",
       "    }\n",
       "\n",
       "    .dataframe tbody tr th {\n",
       "        vertical-align: top;\n",
       "    }\n",
       "\n",
       "    .dataframe thead th {\n",
       "        text-align: right;\n",
       "    }\n",
       "</style>\n",
       "<table border=\"1\" class=\"dataframe\">\n",
       "  <thead>\n",
       "    <tr style=\"text-align: right;\">\n",
       "      <th></th>\n",
       "      <th>b</th>\n",
       "      <th>x1</th>\n",
       "      <th>x2</th>\n",
       "      <th>x3</th>\n",
       "      <th>x4</th>\n",
       "      <th>x5</th>\n",
       "    </tr>\n",
       "  </thead>\n",
       "  <tbody>\n",
       "    <tr>\n",
       "      <th>0</th>\n",
       "      <td>-1.962566</td>\n",
       "      <td>-0.003769</td>\n",
       "      <td>-1.546465</td>\n",
       "      <td>-1.800104</td>\n",
       "      <td>0.74163</td>\n",
       "      <td>-0.052048</td>\n",
       "    </tr>\n",
       "  </tbody>\n",
       "</table>\n",
       "</div>"
      ],
      "text/plain": [
       "          b        x1        x2        x3       x4        x5\n",
       "0 -1.962566 -0.003769 -1.546465 -1.800104  0.74163 -0.052048"
      ]
     },
     "metadata": {},
     "output_type": "display_data"
    },
    {
     "data": {
      "text/html": [
       "<div>\n",
       "<style scoped>\n",
       "    .dataframe tbody tr th:only-of-type {\n",
       "        vertical-align: middle;\n",
       "    }\n",
       "\n",
       "    .dataframe tbody tr th {\n",
       "        vertical-align: top;\n",
       "    }\n",
       "\n",
       "    .dataframe thead th {\n",
       "        text-align: right;\n",
       "    }\n",
       "</style>\n",
       "<table border=\"1\" class=\"dataframe\">\n",
       "  <thead>\n",
       "    <tr style=\"text-align: right;\">\n",
       "      <th></th>\n",
       "      <th>x1</th>\n",
       "      <th>x2</th>\n",
       "      <th>x3</th>\n",
       "      <th>x4</th>\n",
       "      <th>x5</th>\n",
       "      <th>y</th>\n",
       "    </tr>\n",
       "  </thead>\n",
       "  <tbody>\n",
       "    <tr>\n",
       "      <th>0</th>\n",
       "      <td>3.181258</td>\n",
       "      <td>1.179617</td>\n",
       "      <td>3.175705</td>\n",
       "      <td>1.769079</td>\n",
       "      <td>2.650827</td>\n",
       "      <td>-7.701905</td>\n",
       "    </tr>\n",
       "    <tr>\n",
       "      <th>1</th>\n",
       "      <td>2.620545</td>\n",
       "      <td>2.668637</td>\n",
       "      <td>3.656355</td>\n",
       "      <td>-1.055645</td>\n",
       "      <td>-0.041299</td>\n",
       "      <td>-14.104847</td>\n",
       "    </tr>\n",
       "    <tr>\n",
       "      <th>2</th>\n",
       "      <td>-1.283924</td>\n",
       "      <td>0.955435</td>\n",
       "      <td>3.820237</td>\n",
       "      <td>-3.228535</td>\n",
       "      <td>1.953650</td>\n",
       "      <td>-14.120576</td>\n",
       "    </tr>\n",
       "    <tr>\n",
       "      <th>3</th>\n",
       "      <td>-1.660004</td>\n",
       "      <td>-1.610597</td>\n",
       "      <td>2.019788</td>\n",
       "      <td>-3.850690</td>\n",
       "      <td>0.189899</td>\n",
       "      <td>-4.496001</td>\n",
       "    </tr>\n",
       "    <tr>\n",
       "      <th>4</th>\n",
       "      <td>2.915487</td>\n",
       "      <td>-0.889257</td>\n",
       "      <td>-2.302465</td>\n",
       "      <td>-0.198554</td>\n",
       "      <td>0.517379</td>\n",
       "      <td>3.012831</td>\n",
       "    </tr>\n",
       "  </tbody>\n",
       "</table>\n",
       "</div>"
      ],
      "text/plain": [
       "         x1        x2        x3        x4        x5          y\n",
       "0  3.181258  1.179617  3.175705  1.769079  2.650827  -7.701905\n",
       "1  2.620545  2.668637  3.656355 -1.055645 -0.041299 -14.104847\n",
       "2 -1.283924  0.955435  3.820237 -3.228535  1.953650 -14.120576\n",
       "3 -1.660004 -1.610597  2.019788 -3.850690  0.189899  -4.496001\n",
       "4  2.915487 -0.889257 -2.302465 -0.198554  0.517379   3.012831"
      ]
     },
     "metadata": {},
     "output_type": "display_data"
    },
    {
     "name": "stdout",
     "output_type": "stream",
     "text": [
      "A possible linear model is: \n"
     ]
    },
    {
     "data": {
      "text/html": [
       "<div>\n",
       "<style scoped>\n",
       "    .dataframe tbody tr th:only-of-type {\n",
       "        vertical-align: middle;\n",
       "    }\n",
       "\n",
       "    .dataframe tbody tr th {\n",
       "        vertical-align: top;\n",
       "    }\n",
       "\n",
       "    .dataframe thead th {\n",
       "        text-align: right;\n",
       "    }\n",
       "</style>\n",
       "<table border=\"1\" class=\"dataframe\">\n",
       "  <thead>\n",
       "    <tr style=\"text-align: right;\">\n",
       "      <th></th>\n",
       "      <th>b</th>\n",
       "      <th>x1</th>\n",
       "      <th>x2</th>\n",
       "      <th>x3</th>\n",
       "      <th>x4</th>\n",
       "      <th>x5</th>\n",
       "    </tr>\n",
       "  </thead>\n",
       "  <tbody>\n",
       "    <tr>\n",
       "      <th>0</th>\n",
       "      <td>0.182321</td>\n",
       "      <td>-0.823293</td>\n",
       "      <td>-0.756158</td>\n",
       "      <td>-1.389402</td>\n",
       "      <td>-0.209324</td>\n",
       "      <td>0.064855</td>\n",
       "    </tr>\n",
       "  </tbody>\n",
       "</table>\n",
       "</div>"
      ],
      "text/plain": [
       "          b        x1        x2        x3        x4        x5\n",
       "0  0.182321 -0.823293 -0.756158 -1.389402 -0.209324  0.064855"
      ]
     },
     "metadata": {},
     "output_type": "display_data"
    }
   ],
   "source": [
    "import numpy as np\n",
    "import pandas as pd\n",
    "from pyspark.sql import SparkSession\n",
    "\n",
    "try:\n",
    "    spark\n",
    "except NameError:\n",
    "    print(\"starting Spark\")\n",
    "    app_name = \"Quiz4_notebook\"\n",
    "    master = \"local[*]\"\n",
    "    spark = SparkSession\\\n",
    "            .builder\\\n",
    "            .appName(app_name)\\\n",
    "            .master(master)\\\n",
    "            .getOrCreate()\n",
    "sc = spark.sparkContext\n",
    "\n",
    "def generate_data(num_inputs = 5, size=100, seed = 2022):\n",
    "    np.random.seed(seed)\n",
    "    true_function_coeffs = np.random.uniform(-2, 2, num_inputs+1)\n",
    "    print(\"The TRUE linear model is:\")\n",
    "    display(pd.DataFrame(np.expand_dims(true_function_coeffs, axis=0),\n",
    "                     columns=[\"b\"]+[ f\"x{i+1}\" for i in range(len(true_function_coeffs)-1)] ))\n",
    "\n",
    "    x = np.random.uniform(-4, 4, (size, num_inputs))\n",
    "    noise = np.random.normal(0, 2, size)\n",
    "    y = (np.dot(x, true_function_coeffs[1:]) + true_function_coeffs[0] + noise)\n",
    "    X_y = np.c_[x, y]\n",
    "    display(pd.DataFrame(X_y[:5], columns=[ f\"x{i+1}\" for i in range(len(true_function_coeffs)-1)] + [\"y\"]))\n",
    "    return X_y\n",
    "num_inputs= 5\n",
    "X_y_rdd = sc.parallelize(generate_data(num_inputs, 100)).filter(lambda x: sum(x) > 1.0).cache()\n",
    "\n",
    "# given a fictictious multiple linear regression model\n",
    "# make it available in memory as read-only to the executors \n",
    "wBroadcast = sc.broadcast(np.random.uniform(-2, 2, num_inputs+1)) \n",
    "print(\"A possible linear model is: \")\n",
    "display(pd.DataFrame(np.expand_dims(wBroadcast.value, axis=0),\n",
    "                     columns=[\"b\"]+[ f\"x{i+1}\" for i in range(len(wBroadcast.value)-1)] ))\n"
   ]
  },
  {
   "cell_type": "code",
   "execution_count": 9,
   "id": "0d6d0d75-29ad-4b47-8eba-81b2beb179f3",
   "metadata": {},
   "outputs": [
    {
     "name": "stderr",
     "output_type": "stream",
     "text": [
      "[Stage 0:>                                                          (0 + 2) / 2]\r"
     ]
    },
    {
     "name": "stdout",
     "output_type": "stream",
     "text": [
      "The MSE is:15.809\n"
     ]
    },
    {
     "name": "stderr",
     "output_type": "stream",
     "text": [
      "                                                                                \r"
     ]
    }
   ],
   "source": [
    "#    MSE                                  (                  Xw                   -    y   )**2\n",
    "MSE  = X_y_rdd.map(lambda d: (np.dot(np.append(1, d[:-1]), wBroadcast.value) - d[-1])**2).mean()\n",
    "print(f\"The MSE is:{MSE:0.3f}\")"
   ]
  },
  {
   "cell_type": "markdown",
   "id": "7670253b-f119-4b23-a20d-980882f9fcfb",
   "metadata": {},
   "source": [
    "## Q11 - Ridge regression loss"
   ]
  },
  {
   "cell_type": "code",
   "execution_count": 21,
   "id": "ba109d38-936c-4319-b2c0-4832523cf083",
   "metadata": {},
   "outputs": [
    {
     "name": "stdout",
     "output_type": "stream",
     "text": [
      "The TRUE linear model is:\n"
     ]
    },
    {
     "data": {
      "text/html": [
       "<div>\n",
       "<style scoped>\n",
       "    .dataframe tbody tr th:only-of-type {\n",
       "        vertical-align: middle;\n",
       "    }\n",
       "\n",
       "    .dataframe tbody tr th {\n",
       "        vertical-align: top;\n",
       "    }\n",
       "\n",
       "    .dataframe thead th {\n",
       "        text-align: right;\n",
       "    }\n",
       "</style>\n",
       "<table border=\"1\" class=\"dataframe\">\n",
       "  <thead>\n",
       "    <tr style=\"text-align: right;\">\n",
       "      <th></th>\n",
       "      <th>b</th>\n",
       "      <th>x1</th>\n",
       "      <th>x2</th>\n",
       "      <th>x3</th>\n",
       "      <th>x4</th>\n",
       "      <th>x5</th>\n",
       "    </tr>\n",
       "  </thead>\n",
       "  <tbody>\n",
       "    <tr>\n",
       "      <th>0</th>\n",
       "      <td>-1.962566</td>\n",
       "      <td>-0.003769</td>\n",
       "      <td>-1.546465</td>\n",
       "      <td>-1.800104</td>\n",
       "      <td>0.74163</td>\n",
       "      <td>-0.052048</td>\n",
       "    </tr>\n",
       "  </tbody>\n",
       "</table>\n",
       "</div>"
      ],
      "text/plain": [
       "          b        x1        x2        x3       x4        x5\n",
       "0 -1.962566 -0.003769 -1.546465 -1.800104  0.74163 -0.052048"
      ]
     },
     "metadata": {},
     "output_type": "display_data"
    },
    {
     "data": {
      "text/html": [
       "<div>\n",
       "<style scoped>\n",
       "    .dataframe tbody tr th:only-of-type {\n",
       "        vertical-align: middle;\n",
       "    }\n",
       "\n",
       "    .dataframe tbody tr th {\n",
       "        vertical-align: top;\n",
       "    }\n",
       "\n",
       "    .dataframe thead th {\n",
       "        text-align: right;\n",
       "    }\n",
       "</style>\n",
       "<table border=\"1\" class=\"dataframe\">\n",
       "  <thead>\n",
       "    <tr style=\"text-align: right;\">\n",
       "      <th></th>\n",
       "      <th>x1</th>\n",
       "      <th>x2</th>\n",
       "      <th>x3</th>\n",
       "      <th>x4</th>\n",
       "      <th>x5</th>\n",
       "      <th>y</th>\n",
       "    </tr>\n",
       "  </thead>\n",
       "  <tbody>\n",
       "    <tr>\n",
       "      <th>0</th>\n",
       "      <td>3.181258</td>\n",
       "      <td>1.179617</td>\n",
       "      <td>3.175705</td>\n",
       "      <td>1.769079</td>\n",
       "      <td>2.650827</td>\n",
       "      <td>-7.701905</td>\n",
       "    </tr>\n",
       "    <tr>\n",
       "      <th>1</th>\n",
       "      <td>2.620545</td>\n",
       "      <td>2.668637</td>\n",
       "      <td>3.656355</td>\n",
       "      <td>-1.055645</td>\n",
       "      <td>-0.041299</td>\n",
       "      <td>-14.104847</td>\n",
       "    </tr>\n",
       "    <tr>\n",
       "      <th>2</th>\n",
       "      <td>-1.283924</td>\n",
       "      <td>0.955435</td>\n",
       "      <td>3.820237</td>\n",
       "      <td>-3.228535</td>\n",
       "      <td>1.953650</td>\n",
       "      <td>-14.120576</td>\n",
       "    </tr>\n",
       "    <tr>\n",
       "      <th>3</th>\n",
       "      <td>-1.660004</td>\n",
       "      <td>-1.610597</td>\n",
       "      <td>2.019788</td>\n",
       "      <td>-3.850690</td>\n",
       "      <td>0.189899</td>\n",
       "      <td>-4.496001</td>\n",
       "    </tr>\n",
       "    <tr>\n",
       "      <th>4</th>\n",
       "      <td>2.915487</td>\n",
       "      <td>-0.889257</td>\n",
       "      <td>-2.302465</td>\n",
       "      <td>-0.198554</td>\n",
       "      <td>0.517379</td>\n",
       "      <td>3.012831</td>\n",
       "    </tr>\n",
       "  </tbody>\n",
       "</table>\n",
       "</div>"
      ],
      "text/plain": [
       "         x1        x2        x3        x4        x5          y\n",
       "0  3.181258  1.179617  3.175705  1.769079  2.650827  -7.701905\n",
       "1  2.620545  2.668637  3.656355 -1.055645 -0.041299 -14.104847\n",
       "2 -1.283924  0.955435  3.820237 -3.228535  1.953650 -14.120576\n",
       "3 -1.660004 -1.610597  2.019788 -3.850690  0.189899  -4.496001\n",
       "4  2.915487 -0.889257 -2.302465 -0.198554  0.517379   3.012831"
      ]
     },
     "metadata": {},
     "output_type": "display_data"
    },
    {
     "name": "stdout",
     "output_type": "stream",
     "text": [
      "A possible linear model is: \n"
     ]
    },
    {
     "data": {
      "text/html": [
       "<div>\n",
       "<style scoped>\n",
       "    .dataframe tbody tr th:only-of-type {\n",
       "        vertical-align: middle;\n",
       "    }\n",
       "\n",
       "    .dataframe tbody tr th {\n",
       "        vertical-align: top;\n",
       "    }\n",
       "\n",
       "    .dataframe thead th {\n",
       "        text-align: right;\n",
       "    }\n",
       "</style>\n",
       "<table border=\"1\" class=\"dataframe\">\n",
       "  <thead>\n",
       "    <tr style=\"text-align: right;\">\n",
       "      <th></th>\n",
       "      <th>b</th>\n",
       "      <th>x1</th>\n",
       "      <th>x2</th>\n",
       "      <th>x3</th>\n",
       "      <th>x4</th>\n",
       "      <th>x5</th>\n",
       "    </tr>\n",
       "  </thead>\n",
       "  <tbody>\n",
       "    <tr>\n",
       "      <th>0</th>\n",
       "      <td>0.182321</td>\n",
       "      <td>-0.823293</td>\n",
       "      <td>-0.756158</td>\n",
       "      <td>-1.389402</td>\n",
       "      <td>-0.209324</td>\n",
       "      <td>0.064855</td>\n",
       "    </tr>\n",
       "  </tbody>\n",
       "</table>\n",
       "</div>"
      ],
      "text/plain": [
       "          b        x1        x2        x3        x4        x5\n",
       "0  0.182321 -0.823293 -0.756158 -1.389402 -0.209324  0.064855"
      ]
     },
     "metadata": {},
     "output_type": "display_data"
    },
    {
     "name": "stdout",
     "output_type": "stream",
     "text": [
      "The ridge regression loss is: 19.037\n"
     ]
    }
   ],
   "source": [
    "import numpy as np\n",
    "import pandas as pd\n",
    "from pyspark.sql import SparkSession\n",
    "\n",
    "\n",
    "def generate_data(num_inputs = 5, size=100, seed = 2022):\n",
    "    np.random.seed(seed)\n",
    "    true_function_coeffs = np.random.uniform(-2, 2, num_inputs+1)\n",
    "    print(\"The TRUE linear model is:\")\n",
    "    display(pd.DataFrame(np.expand_dims(true_function_coeffs, axis=0),\n",
    "                     columns=[\"b\"]+[ f\"x{i+1}\" for i in range(len(true_function_coeffs)-1)] ))\n",
    "\n",
    "    x = np.random.uniform(-4, 4, (size, num_inputs))\n",
    "    noise = np.random.normal(0, 2, size)\n",
    "    y = (np.dot(x, true_function_coeffs[1:]) + true_function_coeffs[0] + noise)\n",
    "    X_y = np.c_[x, y]\n",
    "    display(pd.DataFrame(X_y[:5], columns=[ f\"x{i+1}\" for i in range(len(true_function_coeffs)-1)] + [\"y\"]))\n",
    "    return X_y\n",
    "num_inputs= 5\n",
    "X_y_rdd = sc.parallelize(generate_data(num_inputs, 100)).filter(lambda x: sum(x) > 1.0).cache()\n",
    "\n",
    "# given a fictictious multiple linear regression model\n",
    "# make it available in memory as read-only to the executors \n",
    "wBroadcast = sc.broadcast(np.random.uniform(-2, 2, num_inputs+1)) \n",
    "W = wBroadcast.value[1:]\n",
    "print(\"A possible linear model is: \")\n",
    "display(pd.DataFrame(np.expand_dims(wBroadcast.value, axis=0),\n",
    "                     columns=[\"b\"]+[ f\"x{i+1}\" for i in range(len(wBroadcast.value)-1)] ))\n",
    "\n",
    "ridge_MSE  = X_y_rdd.map( lambda d: (np.dot(np.append(1, d[:-1]), wBroadcast.value) - d[-1])**2 ).mean()  + 1*np.sum(W**2)\n",
    "print(f\"The ridge regression loss is: {ridge_MSE:0.3f}\")"
   ]
  },
  {
   "cell_type": "markdown",
   "id": "38376647-970f-4048-be86-8e6160c930a3",
   "metadata": {},
   "source": [
    "## Q12 - Perpendicular distance"
   ]
  },
  {
   "cell_type": "code",
   "execution_count": 4,
   "id": "a257ae01-0244-46c7-9447-cb2dd50df8a3",
   "metadata": {},
   "outputs": [
    {
     "name": "stdout",
     "output_type": "stream",
     "text": [
      "score for w1 is : 3.00000\n"
     ]
    }
   ],
   "source": [
    "w1 = [-3, 2, 1]  \n",
    "X  = [1, 2, 2]      # augmented input\n",
    "#modify here\n",
    "d1 = np.dot(w1, X)\n",
    "#######\n",
    "print(f\"score for w1 is : {d1:7.5f}\")"
   ]
  },
  {
   "cell_type": "markdown",
   "id": "b61431c6-de73-4206-ba67-65bc67b390ae",
   "metadata": {},
   "source": [
    "## Q13 - Classification"
   ]
  },
  {
   "cell_type": "code",
   "execution_count": 7,
   "id": "85fe5c09-89cd-4919-a793-a72dd71c197f",
   "metadata": {},
   "outputs": [
    {
     "name": "stdout",
     "output_type": "stream",
     "text": [
      "Perpendicular distances are:  3.0\n",
      "probability of class 1 : 0.9525741268224334\n",
      "probability of class 0 : 0.047425873177566635\n"
     ]
    }
   ],
   "source": [
    "def sigmoid(z):\n",
    "    return 1 / (1 + np.exp(-z))\n",
    "\n",
    "W = np.array([-2., 1., 1])\n",
    "X = np.array( [1, 2., 3.] ) #augmented input\n",
    "pdists = np.dot(X, W)\n",
    "print(f\"Perpendicular distances are: \",pdists)\n",
    "p_1 = sigmoid(pdists)\n",
    "print(\"probability of class 1 :\", p_1)\n",
    "print(\"probability of class 0 :\", 1 - p_1)"
   ]
  },
  {
   "cell_type": "markdown",
   "id": "c234e0a3-0abd-4055-bb92-a36ca3c1c695",
   "metadata": {},
   "source": [
    "**It's class 1**"
   ]
  },
  {
   "cell_type": "markdown",
   "id": "a44092ef-68ca-4b80-a48e-f1101d244c54",
   "metadata": {},
   "source": [
    "## Q14 - Log loss"
   ]
  },
  {
   "cell_type": "code",
   "execution_count": 10,
   "id": "0320507b-8bff-41ae-825f-9975ebbbc0df",
   "metadata": {},
   "outputs": [
    {
     "name": "stdout",
     "output_type": "stream",
     "text": [
      "0.949\n"
     ]
    }
   ],
   "source": [
    "# replace the code at ...\n",
    "pt1 = 0*np.log(.5) + (1-0)*np.log(1-0.5)\n",
    "pt2 = 1*np.log(0.3) + (1-1)*np.log(1 - 0.3)\n",
    "loss = (-1/2) *(pt1 + pt2)\n",
    "print(np.round(loss,3))"
   ]
  },
  {
   "cell_type": "markdown",
   "id": "bcf89247-22b4-4b4b-8ce4-c88a4fb41223",
   "metadata": {},
   "source": [
    "## Q15 - Log loss pt 2"
   ]
  },
  {
   "cell_type": "code",
   "execution_count": 11,
   "id": "9d4108d4-77fb-476a-8ae5-90e33ddf43f3",
   "metadata": {},
   "outputs": [
    {
     "name": "stdout",
     "output_type": "stream",
     "text": [
      " 1.49\n"
     ]
    }
   ],
   "source": [
    "X = np.array([[1,4,0], [1,3,2], [1,4,3], [1,0,1]]).reshape(-1,3)\n",
    "w = np.array([1,1,-1])\n",
    "y = np.array([0, 1, 1,0])\n",
    "\n",
    "p_hat = 1/ (1 + np.exp(-np.dot(X,w)))\n",
    "\n",
    "CXE_loss = -np.mean(y * np.log(p_hat) + (1 - y) * np.log(1 - p_hat))\n",
    "print(f\"{CXE_loss:5.2f}\")"
   ]
  },
  {
   "cell_type": "markdown",
   "id": "8745f409-f675-4ac1-953d-835b530af87d",
   "metadata": {},
   "source": [
    "Q16  - only B"
   ]
  },
  {
   "cell_type": "markdown",
   "id": "f314f8ae-4ee1-407e-ba3e-f88b97fe15f0",
   "metadata": {},
   "source": [
    "## Q18"
   ]
  },
  {
   "cell_type": "code",
   "execution_count": 12,
   "id": "779a6e6b-3292-447c-b0d5-0ce620618ec5",
   "metadata": {},
   "outputs": [
    {
     "name": "stdout",
     "output_type": "stream",
     "text": [
      "predictions: [0.88079708 0.95257413]\n",
      "Gradient: [0.4166856  0.39297267]\n",
      "w before: [1 1]\n",
      "lr * Gradient: [0.04166856 0.03929727]\n",
      "w before: [0.958 0.961]\n"
     ]
    }
   ],
   "source": [
    "X= np.array([[1,1],[1,2]]) # augmented inputs\n",
    "w= np.array([1,1])        # augmented model\n",
    "y= np.array([0,1])        # target values    \n",
    "#==================================================#\n",
    "# Your code starts here #\n",
    "#==================================================#\n",
    "perpDist= np.dot(X, w)\n",
    "p =1 / (1 + np.exp(-perpDist)) #sigmoid\n",
    "gradient = 1/len(y)*np.dot(X.T, (p - y)) \n",
    "print(f'predictions: {p}')\n",
    "print(f'Gradient: {gradient}')\n",
    "print(f'w before: {w}')\n",
    "lr = 0.1\n",
    "print(f'lr * Gradient: {lr *gradient}')\n",
    "w = w - (lr * gradient)\n",
    "print(f'w before: {np.round(w,3)}')"
   ]
  },
  {
   "cell_type": "markdown",
   "id": "d8ad275a-a9f5-47b6-bb5c-d7c7227f865c",
   "metadata": {},
   "source": [
    "## Q19 - ridge CXE loss at scale"
   ]
  },
  {
   "cell_type": "code",
   "execution_count": 25,
   "id": "581d2d77-22bb-4cc4-a1af-305c2f6dd0f2",
   "metadata": {},
   "outputs": [
    {
     "name": "stdout",
     "output_type": "stream",
     "text": [
      "The TRUE linear model is:\n"
     ]
    },
    {
     "data": {
      "text/html": [
       "<div>\n",
       "<style scoped>\n",
       "    .dataframe tbody tr th:only-of-type {\n",
       "        vertical-align: middle;\n",
       "    }\n",
       "\n",
       "    .dataframe tbody tr th {\n",
       "        vertical-align: top;\n",
       "    }\n",
       "\n",
       "    .dataframe thead th {\n",
       "        text-align: right;\n",
       "    }\n",
       "</style>\n",
       "<table border=\"1\" class=\"dataframe\">\n",
       "  <thead>\n",
       "    <tr style=\"text-align: right;\">\n",
       "      <th></th>\n",
       "      <th>b</th>\n",
       "      <th>x1</th>\n",
       "      <th>x2</th>\n",
       "      <th>x3</th>\n",
       "      <th>x4</th>\n",
       "      <th>x5</th>\n",
       "      <th>x6</th>\n",
       "      <th>x7</th>\n",
       "      <th>x8</th>\n",
       "      <th>x9</th>\n",
       "      <th>x10</th>\n",
       "    </tr>\n",
       "  </thead>\n",
       "  <tbody>\n",
       "    <tr>\n",
       "      <th>0</th>\n",
       "      <td>-1.962566</td>\n",
       "      <td>-0.003769</td>\n",
       "      <td>-1.546465</td>\n",
       "      <td>-1.800104</td>\n",
       "      <td>0.74163</td>\n",
       "      <td>-0.052048</td>\n",
       "      <td>1.590629</td>\n",
       "      <td>0.589808</td>\n",
       "      <td>1.587852</td>\n",
       "      <td>0.88454</td>\n",
       "      <td>1.325414</td>\n",
       "    </tr>\n",
       "  </tbody>\n",
       "</table>\n",
       "</div>"
      ],
      "text/plain": [
       "          b        x1        x2        x3       x4        x5        x6  \\\n",
       "0 -1.962566 -0.003769 -1.546465 -1.800104  0.74163 -0.052048  1.590629   \n",
       "\n",
       "         x7        x8       x9       x10  \n",
       "0  0.589808  1.587852  0.88454  1.325414  "
      ]
     },
     "metadata": {},
     "output_type": "display_data"
    },
    {
     "data": {
      "text/html": [
       "<div>\n",
       "<style scoped>\n",
       "    .dataframe tbody tr th:only-of-type {\n",
       "        vertical-align: middle;\n",
       "    }\n",
       "\n",
       "    .dataframe tbody tr th {\n",
       "        vertical-align: top;\n",
       "    }\n",
       "\n",
       "    .dataframe thead th {\n",
       "        text-align: right;\n",
       "    }\n",
       "</style>\n",
       "<table border=\"1\" class=\"dataframe\">\n",
       "  <thead>\n",
       "    <tr style=\"text-align: right;\">\n",
       "      <th></th>\n",
       "      <th>x1</th>\n",
       "      <th>x2</th>\n",
       "      <th>x3</th>\n",
       "      <th>x4</th>\n",
       "      <th>x5</th>\n",
       "      <th>x6</th>\n",
       "      <th>x7</th>\n",
       "      <th>x8</th>\n",
       "      <th>x9</th>\n",
       "      <th>x10</th>\n",
       "      <th>y</th>\n",
       "    </tr>\n",
       "  </thead>\n",
       "  <tbody>\n",
       "    <tr>\n",
       "      <th>0</th>\n",
       "      <td>2.620545</td>\n",
       "      <td>2.668637</td>\n",
       "      <td>3.656355</td>\n",
       "      <td>-1.055645</td>\n",
       "      <td>-0.041299</td>\n",
       "      <td>-1.283924</td>\n",
       "      <td>0.955435</td>\n",
       "      <td>3.820237</td>\n",
       "      <td>-3.228535</td>\n",
       "      <td>1.953650</td>\n",
       "      <td>0.0</td>\n",
       "    </tr>\n",
       "    <tr>\n",
       "      <th>1</th>\n",
       "      <td>-1.660004</td>\n",
       "      <td>-1.610597</td>\n",
       "      <td>2.019788</td>\n",
       "      <td>-3.850690</td>\n",
       "      <td>0.189899</td>\n",
       "      <td>2.915487</td>\n",
       "      <td>-0.889257</td>\n",
       "      <td>-2.302465</td>\n",
       "      <td>-0.198554</td>\n",
       "      <td>0.517379</td>\n",
       "      <td>0.0</td>\n",
       "    </tr>\n",
       "    <tr>\n",
       "      <th>2</th>\n",
       "      <td>-1.204566</td>\n",
       "      <td>3.807269</td>\n",
       "      <td>-3.697440</td>\n",
       "      <td>2.354157</td>\n",
       "      <td>-1.136939</td>\n",
       "      <td>1.983712</td>\n",
       "      <td>3.316074</td>\n",
       "      <td>-1.018701</td>\n",
       "      <td>3.719068</td>\n",
       "      <td>-3.348914</td>\n",
       "      <td>1.0</td>\n",
       "    </tr>\n",
       "    <tr>\n",
       "      <th>3</th>\n",
       "      <td>-3.660392</td>\n",
       "      <td>-1.625632</td>\n",
       "      <td>-1.090371</td>\n",
       "      <td>-0.077959</td>\n",
       "      <td>1.348150</td>\n",
       "      <td>1.387317</td>\n",
       "      <td>0.576805</td>\n",
       "      <td>-3.355262</td>\n",
       "      <td>3.186650</td>\n",
       "      <td>-3.692892</td>\n",
       "      <td>0.0</td>\n",
       "    </tr>\n",
       "    <tr>\n",
       "      <th>4</th>\n",
       "      <td>2.257555</td>\n",
       "      <td>-3.706749</td>\n",
       "      <td>-1.862529</td>\n",
       "      <td>-2.358209</td>\n",
       "      <td>-1.928845</td>\n",
       "      <td>3.460922</td>\n",
       "      <td>-3.935001</td>\n",
       "      <td>-0.772215</td>\n",
       "      <td>3.152818</td>\n",
       "      <td>-2.366328</td>\n",
       "      <td>1.0</td>\n",
       "    </tr>\n",
       "    <tr>\n",
       "      <th>5</th>\n",
       "      <td>-3.825792</td>\n",
       "      <td>1.577337</td>\n",
       "      <td>-2.471813</td>\n",
       "      <td>0.371464</td>\n",
       "      <td>0.825802</td>\n",
       "      <td>3.910351</td>\n",
       "      <td>-3.260432</td>\n",
       "      <td>-3.485701</td>\n",
       "      <td>3.903616</td>\n",
       "      <td>-0.383136</td>\n",
       "      <td>1.0</td>\n",
       "    </tr>\n",
       "    <tr>\n",
       "      <th>6</th>\n",
       "      <td>2.831290</td>\n",
       "      <td>-0.788439</td>\n",
       "      <td>-0.894348</td>\n",
       "      <td>3.075260</td>\n",
       "      <td>1.215783</td>\n",
       "      <td>2.214392</td>\n",
       "      <td>-3.229363</td>\n",
       "      <td>3.729296</td>\n",
       "      <td>-1.421888</td>\n",
       "      <td>-1.654653</td>\n",
       "      <td>1.0</td>\n",
       "    </tr>\n",
       "    <tr>\n",
       "      <th>7</th>\n",
       "      <td>1.613038</td>\n",
       "      <td>-1.133779</td>\n",
       "      <td>-2.734632</td>\n",
       "      <td>-3.934155</td>\n",
       "      <td>2.639960</td>\n",
       "      <td>1.011561</td>\n",
       "      <td>2.971506</td>\n",
       "      <td>1.007259</td>\n",
       "      <td>-2.954898</td>\n",
       "      <td>-0.380559</td>\n",
       "      <td>1.0</td>\n",
       "    </tr>\n",
       "    <tr>\n",
       "      <th>8</th>\n",
       "      <td>-2.445002</td>\n",
       "      <td>3.558906</td>\n",
       "      <td>-0.656156</td>\n",
       "      <td>-3.368282</td>\n",
       "      <td>2.931076</td>\n",
       "      <td>1.491987</td>\n",
       "      <td>-3.841907</td>\n",
       "      <td>-3.404309</td>\n",
       "      <td>-3.797306</td>\n",
       "      <td>-0.408729</td>\n",
       "      <td>0.0</td>\n",
       "    </tr>\n",
       "    <tr>\n",
       "      <th>9</th>\n",
       "      <td>0.076737</td>\n",
       "      <td>2.196001</td>\n",
       "      <td>-1.721490</td>\n",
       "      <td>-3.373160</td>\n",
       "      <td>3.324417</td>\n",
       "      <td>1.143847</td>\n",
       "      <td>2.537446</td>\n",
       "      <td>1.093146</td>\n",
       "      <td>2.170285</td>\n",
       "      <td>-2.358284</td>\n",
       "      <td>0.0</td>\n",
       "    </tr>\n",
       "  </tbody>\n",
       "</table>\n",
       "</div>"
      ],
      "text/plain": [
       "         x1        x2        x3        x4        x5        x6        x7  \\\n",
       "0  2.620545  2.668637  3.656355 -1.055645 -0.041299 -1.283924  0.955435   \n",
       "1 -1.660004 -1.610597  2.019788 -3.850690  0.189899  2.915487 -0.889257   \n",
       "2 -1.204566  3.807269 -3.697440  2.354157 -1.136939  1.983712  3.316074   \n",
       "3 -3.660392 -1.625632 -1.090371 -0.077959  1.348150  1.387317  0.576805   \n",
       "4  2.257555 -3.706749 -1.862529 -2.358209 -1.928845  3.460922 -3.935001   \n",
       "5 -3.825792  1.577337 -2.471813  0.371464  0.825802  3.910351 -3.260432   \n",
       "6  2.831290 -0.788439 -0.894348  3.075260  1.215783  2.214392 -3.229363   \n",
       "7  1.613038 -1.133779 -2.734632 -3.934155  2.639960  1.011561  2.971506   \n",
       "8 -2.445002  3.558906 -0.656156 -3.368282  2.931076  1.491987 -3.841907   \n",
       "9  0.076737  2.196001 -1.721490 -3.373160  3.324417  1.143847  2.537446   \n",
       "\n",
       "         x8        x9       x10    y  \n",
       "0  3.820237 -3.228535  1.953650  0.0  \n",
       "1 -2.302465 -0.198554  0.517379  0.0  \n",
       "2 -1.018701  3.719068 -3.348914  1.0  \n",
       "3 -3.355262  3.186650 -3.692892  0.0  \n",
       "4 -0.772215  3.152818 -2.366328  1.0  \n",
       "5 -3.485701  3.903616 -0.383136  1.0  \n",
       "6  3.729296 -1.421888 -1.654653  1.0  \n",
       "7  1.007259 -2.954898 -0.380559  1.0  \n",
       "8 -3.404309 -3.797306 -0.408729  0.0  \n",
       "9  1.093146  2.170285 -2.358284  0.0  "
      ]
     },
     "metadata": {},
     "output_type": "display_data"
    },
    {
     "name": "stdout",
     "output_type": "stream",
     "text": [
      "A possible linear model is: \n"
     ]
    },
    {
     "data": {
      "text/html": [
       "<div>\n",
       "<style scoped>\n",
       "    .dataframe tbody tr th:only-of-type {\n",
       "        vertical-align: middle;\n",
       "    }\n",
       "\n",
       "    .dataframe tbody tr th {\n",
       "        vertical-align: top;\n",
       "    }\n",
       "\n",
       "    .dataframe thead th {\n",
       "        text-align: right;\n",
       "    }\n",
       "</style>\n",
       "<table border=\"1\" class=\"dataframe\">\n",
       "  <thead>\n",
       "    <tr style=\"text-align: right;\">\n",
       "      <th></th>\n",
       "      <th>b</th>\n",
       "      <th>x1</th>\n",
       "      <th>x2</th>\n",
       "      <th>x3</th>\n",
       "      <th>x4</th>\n",
       "      <th>x5</th>\n",
       "      <th>x6</th>\n",
       "      <th>x7</th>\n",
       "      <th>x8</th>\n",
       "      <th>x9</th>\n",
       "      <th>x10</th>\n",
       "    </tr>\n",
       "  </thead>\n",
       "  <tbody>\n",
       "    <tr>\n",
       "      <th>0</th>\n",
       "      <td>0.622831</td>\n",
       "      <td>1.474318</td>\n",
       "      <td>1.311174</td>\n",
       "      <td>1.417228</td>\n",
       "      <td>1.53173</td>\n",
       "      <td>1.917852</td>\n",
       "      <td>-1.51131</td>\n",
       "      <td>1.204692</td>\n",
       "      <td>-0.878298</td>\n",
       "      <td>1.029086</td>\n",
       "      <td>-0.362585</td>\n",
       "    </tr>\n",
       "  </tbody>\n",
       "</table>\n",
       "</div>"
      ],
      "text/plain": [
       "          b        x1        x2        x3       x4        x5       x6  \\\n",
       "0  0.622831  1.474318  1.311174  1.417228  1.53173  1.917852 -1.51131   \n",
       "\n",
       "         x7        x8        x9       x10  \n",
       "0  1.204692 -0.878298  1.029086 -0.362585  "
      ]
     },
     "metadata": {},
     "output_type": "display_data"
    }
   ],
   "source": [
    "def generate_data(num_inputs = 5, size=100, seed = 2022):\n",
    "    np.random.seed(seed)\n",
    "    true_function_coeffs = np.random.uniform(-2, 2, num_inputs+1)\n",
    "    print(\"The TRUE linear model is:\")\n",
    "    display(pd.DataFrame(np.expand_dims(true_function_coeffs, axis=0),\n",
    "                     columns=[\"b\"]+[ f\"x{i+1}\" for i in range(len(true_function_coeffs)-1)] ))\n",
    "\n",
    "    x = np.random.uniform(-4, 4, (size, num_inputs))\n",
    "    noise = np.random.normal(0, 2, size)\n",
    "    y = (np.dot(x, true_function_coeffs[1:]) + true_function_coeffs[0] + noise)\n",
    "    y = np.where(y > 0, 1, 0)\n",
    "    X_y = np.c_[x, y]\n",
    "    display(pd.DataFrame(X_y[:num_inputs], columns=[ f\"x{i+1}\" for i in range(len(true_function_coeffs)-1)] + [\"y\"]))\n",
    "    return X_y\n",
    "num_inputs= 10\n",
    "X_y_rdd = sc.parallelize(generate_data(num_inputs, 100)).filter(lambda x: sum(x) > 1.0).cache()\n",
    "\n",
    "# given a fictitious linear classificationmodel\n",
    "# make it available in memory as read-only to the executors \n",
    "wBroadcast = sc.broadcast(np.random.uniform(-2, 2, num_inputs+1)) \n",
    "print(\"A possible linear model is: \")\n",
    "display(pd.DataFrame(np.expand_dims(wBroadcast.value, axis=0),\n",
    "                     columns=[\"b\"]+[ f\"x{i+1}\" for i in range(num_inputs)] ))\n",
    "def class_prob(X, model):\n",
    "    \"Class prob for a binomial logistic regression model\"\n",
    "    return 1/(1+np.exp(-1*np.dot(np.append(1, X), wBroadcast.value))) #jgs\n",
    "                            \n"
   ]
  },
  {
   "cell_type": "code",
   "execution_count": 26,
   "id": "3ed3e917-3617-4168-bfa7-e268daa9ccf8",
   "metadata": {},
   "outputs": [
    {
     "name": "stdout",
     "output_type": "stream",
     "text": [
      "The BXE is:5.736\n",
      "The ridge BXE loss is:23.359\n"
     ]
    }
   ],
   "source": [
    "W = wBroadcast.value[1:]\n",
    "BXE  = -X_y_rdd.map(lambda X_y: X_y[-1]*np.log(class_prob(X_y[:-1], wBroadcast.value)) + (1-X_y[-1])*np.log(1 - class_prob(X_y[:-1], wBroadcast.value)) ).mean() \n",
    "llambda = 1.0\n",
    "ridge_BXE  = BXE  + llambda*np.sum(W**2)\n",
    "print(f\"The BXE is:{BXE:0.3f}\")\n",
    "print(f\"The ridge BXE loss is:{ridge_BXE:0.3f}\")"
   ]
  },
  {
   "cell_type": "markdown",
   "id": "a7207c31-1eef-4c3c-b96e-e560a5c6803c",
   "metadata": {},
   "source": [
    "---"
   ]
  },
  {
   "cell_type": "code",
   "execution_count": 16,
   "id": "79f33d25-b30a-4972-9bd9-08df192c2072",
   "metadata": {},
   "outputs": [
    {
     "name": "stdout",
     "output_type": "stream",
     "text": [
      "The TRUE linear model is:\n"
     ]
    },
    {
     "data": {
      "text/html": [
       "<div>\n",
       "<style scoped>\n",
       "    .dataframe tbody tr th:only-of-type {\n",
       "        vertical-align: middle;\n",
       "    }\n",
       "\n",
       "    .dataframe tbody tr th {\n",
       "        vertical-align: top;\n",
       "    }\n",
       "\n",
       "    .dataframe thead th {\n",
       "        text-align: right;\n",
       "    }\n",
       "</style>\n",
       "<table border=\"1\" class=\"dataframe\">\n",
       "  <thead>\n",
       "    <tr style=\"text-align: right;\">\n",
       "      <th></th>\n",
       "      <th>b</th>\n",
       "      <th>x1</th>\n",
       "      <th>x2</th>\n",
       "      <th>x3</th>\n",
       "      <th>x4</th>\n",
       "      <th>x5</th>\n",
       "    </tr>\n",
       "  </thead>\n",
       "  <tbody>\n",
       "    <tr>\n",
       "      <th>0</th>\n",
       "      <td>-1.962566</td>\n",
       "      <td>-0.003769</td>\n",
       "      <td>-1.546465</td>\n",
       "      <td>-1.800104</td>\n",
       "      <td>0.74163</td>\n",
       "      <td>-0.052048</td>\n",
       "    </tr>\n",
       "  </tbody>\n",
       "</table>\n",
       "</div>"
      ],
      "text/plain": [
       "          b        x1        x2        x3       x4        x5\n",
       "0 -1.962566 -0.003769 -1.546465 -1.800104  0.74163 -0.052048"
      ]
     },
     "metadata": {},
     "output_type": "display_data"
    },
    {
     "data": {
      "text/html": [
       "<div>\n",
       "<style scoped>\n",
       "    .dataframe tbody tr th:only-of-type {\n",
       "        vertical-align: middle;\n",
       "    }\n",
       "\n",
       "    .dataframe tbody tr th {\n",
       "        vertical-align: top;\n",
       "    }\n",
       "\n",
       "    .dataframe thead th {\n",
       "        text-align: right;\n",
       "    }\n",
       "</style>\n",
       "<table border=\"1\" class=\"dataframe\">\n",
       "  <thead>\n",
       "    <tr style=\"text-align: right;\">\n",
       "      <th></th>\n",
       "      <th>x1</th>\n",
       "      <th>x2</th>\n",
       "      <th>x3</th>\n",
       "      <th>x4</th>\n",
       "      <th>x5</th>\n",
       "      <th>y</th>\n",
       "    </tr>\n",
       "  </thead>\n",
       "  <tbody>\n",
       "    <tr>\n",
       "      <th>0</th>\n",
       "      <td>3.181258</td>\n",
       "      <td>1.179617</td>\n",
       "      <td>3.175705</td>\n",
       "      <td>1.769079</td>\n",
       "      <td>2.650827</td>\n",
       "      <td>-7.701905</td>\n",
       "    </tr>\n",
       "    <tr>\n",
       "      <th>1</th>\n",
       "      <td>2.620545</td>\n",
       "      <td>2.668637</td>\n",
       "      <td>3.656355</td>\n",
       "      <td>-1.055645</td>\n",
       "      <td>-0.041299</td>\n",
       "      <td>-14.104847</td>\n",
       "    </tr>\n",
       "    <tr>\n",
       "      <th>2</th>\n",
       "      <td>-1.283924</td>\n",
       "      <td>0.955435</td>\n",
       "      <td>3.820237</td>\n",
       "      <td>-3.228535</td>\n",
       "      <td>1.953650</td>\n",
       "      <td>-14.120576</td>\n",
       "    </tr>\n",
       "    <tr>\n",
       "      <th>3</th>\n",
       "      <td>-1.660004</td>\n",
       "      <td>-1.610597</td>\n",
       "      <td>2.019788</td>\n",
       "      <td>-3.850690</td>\n",
       "      <td>0.189899</td>\n",
       "      <td>-4.496001</td>\n",
       "    </tr>\n",
       "    <tr>\n",
       "      <th>4</th>\n",
       "      <td>2.915487</td>\n",
       "      <td>-0.889257</td>\n",
       "      <td>-2.302465</td>\n",
       "      <td>-0.198554</td>\n",
       "      <td>0.517379</td>\n",
       "      <td>3.012831</td>\n",
       "    </tr>\n",
       "  </tbody>\n",
       "</table>\n",
       "</div>"
      ],
      "text/plain": [
       "         x1        x2        x3        x4        x5          y\n",
       "0  3.181258  1.179617  3.175705  1.769079  2.650827  -7.701905\n",
       "1  2.620545  2.668637  3.656355 -1.055645 -0.041299 -14.104847\n",
       "2 -1.283924  0.955435  3.820237 -3.228535  1.953650 -14.120576\n",
       "3 -1.660004 -1.610597  2.019788 -3.850690  0.189899  -4.496001\n",
       "4  2.915487 -0.889257 -2.302465 -0.198554  0.517379   3.012831"
      ]
     },
     "metadata": {},
     "output_type": "display_data"
    },
    {
     "name": "stdout",
     "output_type": "stream",
     "text": [
      "A possible linear model is: \n"
     ]
    },
    {
     "data": {
      "text/html": [
       "<div>\n",
       "<style scoped>\n",
       "    .dataframe tbody tr th:only-of-type {\n",
       "        vertical-align: middle;\n",
       "    }\n",
       "\n",
       "    .dataframe tbody tr th {\n",
       "        vertical-align: top;\n",
       "    }\n",
       "\n",
       "    .dataframe thead th {\n",
       "        text-align: right;\n",
       "    }\n",
       "</style>\n",
       "<table border=\"1\" class=\"dataframe\">\n",
       "  <thead>\n",
       "    <tr style=\"text-align: right;\">\n",
       "      <th></th>\n",
       "      <th>b</th>\n",
       "      <th>x1</th>\n",
       "      <th>x2</th>\n",
       "      <th>x3</th>\n",
       "      <th>x4</th>\n",
       "      <th>x5</th>\n",
       "    </tr>\n",
       "  </thead>\n",
       "  <tbody>\n",
       "    <tr>\n",
       "      <th>0</th>\n",
       "      <td>0.182321</td>\n",
       "      <td>-0.823293</td>\n",
       "      <td>-0.756158</td>\n",
       "      <td>-1.389402</td>\n",
       "      <td>-0.209324</td>\n",
       "      <td>0.064855</td>\n",
       "    </tr>\n",
       "  </tbody>\n",
       "</table>\n",
       "</div>"
      ],
      "text/plain": [
       "          b        x1        x2        x3        x4        x5\n",
       "0  0.182321 -0.823293 -0.756158 -1.389402 -0.209324  0.064855"
      ]
     },
     "metadata": {},
     "output_type": "display_data"
    },
    {
     "name": "stdout",
     "output_type": "stream",
     "text": [
      "The MSE is:15.809\n"
     ]
    }
   ],
   "source": [
    "import numpy as np\n",
    "import pandas as pd\n",
    "from pyspark.sql import SparkSession\n",
    "\n",
    "try:\n",
    "    spark\n",
    "except NameError:\n",
    "    print('starting Spark')\n",
    "    app_name = 'Quiz4_notebook'\n",
    "    master = \"local[*]\"\n",
    "    spark = SparkSession\\\n",
    "            .builder\\\n",
    "            .appName(app_name)\\\n",
    "            .master(master)\\\n",
    "            .getOrCreate()\n",
    "sc = spark.sparkContext\n",
    "\n",
    "def generate_data(num_inputs = 5, size=100, seed = 2022):\n",
    "    np.random.seed(seed)\n",
    "    true_function_coeffs = np.random.uniform(-2, 2, num_inputs+1)\n",
    "    print(\"The TRUE linear model is:\")\n",
    "    display(pd.DataFrame(np.expand_dims(true_function_coeffs, axis=0),\n",
    "            columns=[\"b\"]+[ f\"x{i+1}\" for i in range(len(true_function_coeffs)-1)] ))\n",
    "\n",
    "    x = np.random.uniform(-4, 4, (size, num_inputs))\n",
    "    noise = np.random.normal(0, 2, size)\n",
    "    y = (np.dot(x, true_function_coeffs[1:]) + true_function_coeffs[0] + noise)\n",
    "    X_y = np.c_[x, y]\n",
    "    display(pd.DataFrame(X_y[:5], columns=[ f\"x{i+1}\" for i in range(len(true_function_coeffs)-1)] + [\"y\"]))\n",
    "    return X_y\n",
    "num_inputs= 5\n",
    "X_y_rdd = sc.parallelize(generate_data(num_inputs, 100)).filter(lambda x: sum(x) > 1.0).cache()\n",
    "\n",
    "# given a fictictious multiple linear regression model\n",
    "# make it available in memory as read-only to the executors \n",
    "wBroadcast = sc.broadcast(np.random.uniform(-2, 2, num_inputs+1))\n",
    "print(\"A possible linear model is: \")\n",
    "display(pd.DataFrame(np.expand_dims(wBroadcast.value, axis=0),\n",
    "                    columns=[\"b\"]+[ f\"x{i+1}\" for i in range(len(wBroadcast.value)-1)] ))\n",
    "\n",
    "#    MSE                                  (                  Xw                   -    y   )**2\n",
    "MSE = X_y_rdd.map(lambda X_y: (np.dot(np.append(1, X_y[:-1]), wBroadcast.value) - X_y[-1])**2).mean()\n",
    "print(f\"The MSE is:{MSE:0.3f}\")"
   ]
  },
  {
   "cell_type": "code",
   "execution_count": 17,
   "id": "96e825d7-232a-4196-bb99-9c65ebbdb6f0",
   "metadata": {},
   "outputs": [
    {
     "name": "stdout",
     "output_type": "stream",
     "text": [
      "score for w1 is : 3.00000\n"
     ]
    }
   ],
   "source": [
    "import numpy as np\n",
    "\n",
    "w1 = [-3, 2, 1]\n",
    "X = [1,2,2]\n",
    "d1 = np.dot(w1,X)\n",
    "print(f\"score for w1 is : {d1:7.5f}\")"
   ]
  }
 ],
 "metadata": {
  "kernelspec": {
   "display_name": "PySpark",
   "language": "python",
   "name": "pyspark"
  },
  "language_info": {
   "codemirror_mode": {
    "name": "ipython",
    "version": 3
   },
   "file_extension": ".py",
   "mimetype": "text/x-python",
   "name": "python",
   "nbconvert_exporter": "python",
   "pygments_lexer": "ipython3",
   "version": "3.8.15"
  }
 },
 "nbformat": 4,
 "nbformat_minor": 5
}