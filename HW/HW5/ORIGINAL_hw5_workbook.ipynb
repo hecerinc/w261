{
 "cells": [
  {
   "cell_type": "markdown",
   "metadata": {
    "application/vnd.databricks.v1+cell": {
     "inputWidgets": {},
     "nuid": "9b25213b-47db-495f-9d82-0271f06ad1a7",
     "showTitle": false,
     "title": ""
    }
   },
   "source": [
    "## HW 5 - Page Rank\n",
    "__`MIDS w261: Machine Learning at Scale | UC Berkeley School of Information | Spring 2023`__\n",
    "\n",
    "> Updated: 06/30/2023\n",
    "\n",
    "Last homework for 261!!!\n",
    "\n",
    "In Weeks 8 and 9 you discussed key concepts related to graph based algorithms and implemented SSSP. In this final homework assignment you'll implement distributed PageRank using some data from Wikipedia. You will likely want to select 16 or 32 cores when you set up your cluster, as graph processing with Spark can take some time. If you are working on free trial credits, then you maximum will be 16 cores. You'll also need to enable GraphFrames when you spin up your cluster or you won't be able to complete the last question.\n",
    "\n",
    "By the end of this homework you should be able to:  \n",
    "* ... __compare/contrast__ adjacency matrices and lists as representations of graphs for parallel computation.\n",
    "* ... __explain__ the goal of the PageRank algorithm using the concept of an infinite Random Walk.\n",
    "* ... __define__ a Markov chain including the conditions underwhich it will converge.\n",
    "* ... __identify__ what modifications must be made to the web graph inorder to leverage Markov Chains.\n",
    "* ... __implement__ distributed PageRank in Spark."
   ]
  },
  {
   "cell_type": "markdown",
   "metadata": {
    "application/vnd.databricks.v1+cell": {
     "inputWidgets": {},
     "nuid": "7e89eb06-bbe7-486f-a060-170c6c0fd81e",
     "showTitle": false,
     "title": ""
    }
   },
   "source": [
    "### Notebook Set-Up\n",
    "Before starting your homework run the following cells to confirm your setup."
   ]
  },
  {
   "cell_type": "code",
   "execution_count": 1,
   "metadata": {
    "application/vnd.databricks.v1+cell": {
     "inputWidgets": {},
     "nuid": "e4ebf232-974c-41e9-82d7-a1e5cb2a73f2",
     "showTitle": false,
     "title": ""
    }
   },
   "outputs": [],
   "source": [
    "# imports\n",
    "import re\n",
    "import ast\n",
    "import time\n",
    "import numpy as np\n",
    "import pandas as pd\n",
    "import seaborn as sns\n",
    "import networkx as nx\n",
    "import matplotlib.pyplot as plt"
   ]
  },
  {
   "cell_type": "markdown",
   "metadata": {},
   "source": [
    "### Start Spark and the Spark UI"
   ]
  },
  {
   "cell_type": "code",
   "execution_count": 2,
   "metadata": {},
   "outputs": [
    {
     "name": "stdout",
     "output_type": "stream",
     "text": [
      "starting Spark\n",
      ":: loading settings :: url = jar:file:/usr/lib/spark/jars/ivy-2.5.1.jar!/org/apache/ivy/core/settings/ivysettings.xml\n"
     ]
    },
    {
     "name": "stderr",
     "output_type": "stream",
     "text": [
      "Ivy Default Cache set to: /root/.ivy2/cache\n",
      "The jars for the packages stored in: /root/.ivy2/jars\n",
      "graphframes#graphframes added as a dependency\n",
      "org.apache.spark#spark-avro_2.12 added as a dependency\n",
      ":: resolving dependencies :: org.apache.spark#spark-submit-parent-968f4d1e-13ea-47a5-9f2a-e3dc4a935c8e;1.0\n",
      "\tconfs: [default]\n",
      "\tfound graphframes#graphframes;0.8.2-spark3.1-s_2.12 in spark-packages\n",
      "\tfound org.slf4j#slf4j-api;1.7.16 in central\n",
      "\tfound org.apache.spark#spark-avro_2.12;3.1.3 in central\n",
      "\tfound org.spark-project.spark#unused;1.0.0 in central\n",
      "downloading https://repos.spark-packages.org/graphframes/graphframes/0.8.2-spark3.1-s_2.12/graphframes-0.8.2-spark3.1-s_2.12.jar ...\n",
      "\t[SUCCESSFUL ] graphframes#graphframes;0.8.2-spark3.1-s_2.12!graphframes.jar (231ms)\n",
      "downloading https://repo1.maven.org/maven2/org/apache/spark/spark-avro_2.12/3.1.3/spark-avro_2.12-3.1.3.jar ...\n",
      "\t[SUCCESSFUL ] org.apache.spark#spark-avro_2.12;3.1.3!spark-avro_2.12.jar (16ms)\n",
      "downloading https://repo1.maven.org/maven2/org/slf4j/slf4j-api/1.7.16/slf4j-api-1.7.16.jar ...\n",
      "\t[SUCCESSFUL ] org.slf4j#slf4j-api;1.7.16!slf4j-api.jar (11ms)\n",
      "downloading https://repo1.maven.org/maven2/org/spark-project/spark/unused/1.0.0/unused-1.0.0.jar ...\n",
      "\t[SUCCESSFUL ] org.spark-project.spark#unused;1.0.0!unused.jar (9ms)\n",
      ":: resolution report :: resolve 2190ms :: artifacts dl 272ms\n",
      "\t:: modules in use:\n",
      "\tgraphframes#graphframes;0.8.2-spark3.1-s_2.12 from spark-packages in [default]\n",
      "\torg.apache.spark#spark-avro_2.12;3.1.3 from central in [default]\n",
      "\torg.slf4j#slf4j-api;1.7.16 from central in [default]\n",
      "\torg.spark-project.spark#unused;1.0.0 from central in [default]\n",
      "\t---------------------------------------------------------------------\n",
      "\t|                  |            modules            ||   artifacts   |\n",
      "\t|       conf       | number| search|dwnlded|evicted|| number|dwnlded|\n",
      "\t---------------------------------------------------------------------\n",
      "\t|      default     |   4   |   4   |   4   |   0   ||   4   |   4   |\n",
      "\t---------------------------------------------------------------------\n",
      ":: retrieving :: org.apache.spark#spark-submit-parent-968f4d1e-13ea-47a5-9f2a-e3dc4a935c8e\n",
      "\tconfs: [default]\n",
      "\t4 artifacts copied, 0 already retrieved (455kB/8ms)\n",
      "23/07/22 20:58:14 WARN com.google.cloud.hadoop.fs.gcs.GhfsStorageStatistics: Detected potential high latency for operation op_get_file_status. latencyMs=110; previousMaxLatencyMs=0; operationCount=1; context=gs://spark-lib/bigquery/spark-bigquery-latest_2.12.jar\n",
      "23/07/22 20:58:14 WARN com.google.cloud.hadoop.fs.gcs.GhfsStorageStatistics: Detected potential high latency for operation op_glob_status. latencyMs=180; previousMaxLatencyMs=0; operationCount=1; context=path=gs://spark-lib/bigquery/spark-bigquery-latest_2.12.jar; pattern=com.google.cloud.hadoop.fs.gcs.GoogleHadoopFileSystemBase$$Lambda$210/483525032@1542af63\n",
      "23/07/22 20:58:14 WARN com.google.cloud.hadoop.fs.gcs.GhfsStorageStatistics: Detected potential high latency for operation op_open. latencyMs=108; previousMaxLatencyMs=0; operationCount=1; context=gs://spark-lib/bigquery/spark-bigquery-latest_2.12.jar\n",
      "Setting default log level to \"WARN\".\n",
      "To adjust logging level use sc.setLogLevel(newLevel). For SparkR, use setLogLevel(newLevel).\n",
      "23/07/22 20:58:15 INFO org.apache.spark.SparkEnv: Registering MapOutputTracker\n",
      "23/07/22 20:58:15 INFO org.apache.spark.SparkEnv: Registering BlockManagerMaster\n",
      "23/07/22 20:58:15 INFO org.apache.spark.SparkEnv: Registering BlockManagerMasterHeartbeat\n",
      "23/07/22 20:58:16 INFO org.apache.spark.SparkEnv: Registering OutputCommitCoordinator\n",
      "23/07/22 20:58:17 WARN com.google.cloud.hadoop.fs.gcs.GhfsStorageStatistics: Detected potential high latency for operation op_mkdirs. latencyMs=137; previousMaxLatencyMs=0; operationCount=1; context=gs://dataproc-temp-us-west1-840942286278-qwy7vsfu/20ed5b33-c986-43a4-9cef-423289091bc8/spark-job-history\n"
     ]
    },
    {
     "name": "stdout",
     "output_type": "stream",
     "text": [
      "\n",
      "To start the SPARK UI\n",
      "\n",
      "Copy the following command  to cloud shell and run as shown in the screenshot below. \n",
      "And click on the PREVIEW ON PORT 8080 menu option .\n",
      "Run the following command to establish the SSH Tunnel:\n",
      "\n",
      "gcloud compute ssh w261-m --zone us-west1-b --ssh-flag \"-L 8080:localhost:4040\" \n"
     ]
    }
   ],
   "source": [
    "import numpy as np\n",
    "import pandas as pd\n",
    "from pyspark.sql import SparkSession\n",
    "import os\n",
    "\n",
    "try:\n",
    "    spark\n",
    "except NameError:\n",
    "    print('starting Spark')\n",
    "    app_name = 'HW5_notebook'\n",
    "    master = \"local[*]\"\n",
    "    spark = SparkSession\\\n",
    "            .builder\\\n",
    "            .appName(app_name)\\\n",
    "            .master(master)\\\n",
    "            .getOrCreate()\n",
    "sc = spark.sparkContext\n",
    "\n",
    "ZONE = os.getenv(\"ZONE\") #new as of June 17, 2022 4:45PM PST; restart cluster to see thus env variable\n",
    "spark_UI_info = f'''\n",
    "To start the SPARK UI\n",
    "\n",
    "Copy the following command  to cloud shell and run as shown in the screenshot below. \n",
    "And click on the PREVIEW ON PORT 8080 menu option .\n",
    "Run the following command to establish the SSH Tunnel:\n",
    "\n",
    "gcloud compute ssh w261-m --zone {ZONE} --ssh-flag \"-L 8080:localhost:4040\" '''\n",
    "\n",
    "print(spark_UI_info)"
   ]
  },
  {
   "cell_type": "markdown",
   "metadata": {},
   "source": [
    "<img src='https://www.dropbox.com/s/tlb4uiakj2bx7qg/Three_steps_launch_SparkUI.png?raw=true' style='width:100%'>"
   ]
  },
  {
   "cell_type": "markdown",
   "metadata": {},
   "source": [
    "## Set up global variables for cloud buckets (both Data, Staging) and for Zone "
   ]
  },
  {
   "cell_type": "code",
   "execution_count": 3,
   "metadata": {},
   "outputs": [
    {
     "name": "stdout",
     "output_type": "stream",
     "text": [
      "Personal Data bucket:  gs://w261-hr\n",
      "      34 B  2023-07-22T20:51:32Z  gs://w261-hr/notebooks/jupyter/Assignments/HW5/HW5.md\n",
      "     631 B  2023-07-22T20:51:32Z  gs://w261-hr/notebooks/jupyter/Assignments/HW5/README.md\n",
      " 56.63 KiB  2023-07-22T20:51:34Z  gs://w261-hr/notebooks/jupyter/Assignments/HW5/hw5_workbook.ipynb\n",
      "                                 gs://w261-hr/notebooks/jupyter/Assignments/HW5/data/\n",
      "TOTAL: 3 objects, 58651 bytes (57.28 KiB)\n"
     ]
    }
   ],
   "source": [
    "import os\n",
    "from google.cloud import storage\n",
    "DATA_BUCKET = os.getenv('DATA_BUCKET','')[:-1] # our private storage bucket location\n",
    "HW5_FOLDER = f\"{DATA_BUCKET}/notebooks/jupyter/Assignments/HW5\"\n",
    "print(f\"Personal Data bucket:  {DATA_BUCKET}\")\n",
    "!gsutil ls -lh  {HW5_FOLDER} "
   ]
  },
  {
   "cell_type": "code",
   "execution_count": null,
   "metadata": {
    "application/vnd.databricks.v1+cell": {
     "inputWidgets": {},
     "nuid": "86b59361-3412-4481-b6b5-4f247f0fec43",
     "showTitle": false,
     "title": ""
    }
   },
   "outputs": [],
   "source": [
    "sc = spark.sparkContext\n",
    "spark"
   ]
  },
  {
   "cell_type": "markdown",
   "metadata": {
    "application/vnd.databricks.v1+cell": {
     "inputWidgets": {},
     "nuid": "572c9067-af5d-49f1-b9da-b9b713680a4f",
     "showTitle": false,
     "title": ""
    }
   },
   "source": [
    "# Question 1: Distributed Graph Processing\n",
    "Chapter 5 from Lin & Dyer gave you a high level introduction to graph algorithms and concernts that come up when trying to perform distributed computations over them. The questions below are designed to make sure you captured the key points from this reading and your async lectures. \n",
    "\n",
    "### Q1 Tasks:\n",
    "\n",
    "* __a) Multiple Choice:__ Other than their size/scale, what makes graphs uniquely challenging to work with in the map-reduce paradigm? *(__HINT__: Don't think in terms of any specific algorithm. Think in terms of the nature of the graph data structure itself).*\n",
    "\n",
    "* __b) Multiple Choice:__ What specific design component in Dijkstra's algorithm makes this approach hard to parallelize?\n",
    "\n",
    "* __c) Short Response:__ How does parallel breadth-first-search get around the problem that you identified in part `b`? At what expense? Your response should be 2-4 sentences. "
   ]
  },
  {
   "cell_type": "markdown",
   "metadata": {
    "application/vnd.databricks.v1+cell": {
     "inputWidgets": {},
     "nuid": "4354a257-a47f-4f28-a294-b978e90b557f",
     "showTitle": false,
     "title": ""
    }
   },
   "source": [
    "### Q1 Student Answers:\n",
    "OPTIONAL - if you'd like to save your answers in this notebook: \n",
    "\n",
    "> __a)__ Type your answer here!\n",
    "\n",
    "> __b)__ Type your answer here!\n",
    "\n",
    "> __c)__ Type your answer here!  "
   ]
  },
  {
   "cell_type": "markdown",
   "metadata": {
    "application/vnd.databricks.v1+cell": {
     "inputWidgets": {},
     "nuid": "aa76ac18-9606-4814-a27e-e018d9114e67",
     "showTitle": false,
     "title": ""
    }
   },
   "source": [
    "# Question 2: Representing Graphs \n",
    "\n",
    "In class you saw examples of adjacency matrix and adjacency list representations of graphs. These data structures were probably familiar from HW3, though we hadn't before talked about them in the context of graphs. In this question we'll discuss some of the tradeoffs associated with these representations. __`NOTE:`__ We'll use the graph from Figure 5.1 in Lin & Dyer as a toy example. For convenience in the code below we'll label the nodes `A`, `B`, `C`, `D`, and `E` instead of $n_1$, $n_2$, etc but otherwise you should be able to follow along & check our answers against those in the text.\n",
    "\n",
    "\n",
    "<img src=\"https://github.com/kyleiwaniec/w261_assets/blob/master/images/HW5/Lin-Dyer-graph-Q1.png?raw=true\" width=50%>\n",
    "\n",
    "### Q2 Tasks:\n",
    "\n",
    "* __a) Multiple Dropdown:__ Relatively speaking, is the graph you described in Figure 5.1 in Lin & Dyer \"sparse\" or \"dense\"?  Explain how sparsity/density impacts the adjacency matrix and adjacency list representations of a graph. \n",
    "\n",
    "* __b) Multiple Dropdown:__ Run the provided code to create and plot our toy graph. Is this graph directed or undirected? Explain how the adjacency matrices for directed graphs will differ from those of undirected graphs.\n",
    "\n",
    "* __c) Code:__ Fill in the missing code to complete the function `get_adj_matr()`.\n",
    "\n",
    "* __d) Code:__ Fill in the missing code to complete the function `get_adj_list()`.\n",
    "\n",
    "* __e) Multiple Choice:__ Which is the correct edge list for node `B`?"
   ]
  },
  {
   "cell_type": "markdown",
   "metadata": {
    "application/vnd.databricks.v1+cell": {
     "inputWidgets": {},
     "nuid": "e9d890f3-c672-4ec4-9bff-d1b8ea7071cd",
     "showTitle": false,
     "title": ""
    }
   },
   "source": [
    "### Q2 Student Answers:\n",
    "OPTIONAL - if you'd like to save your answers in this notebook: \n",
    "\n",
    "> __a)__ Type your answer here!\n",
    "\n",
    "> __b)__ Type your answer here!\n",
    "\n",
    "> __e)__ Type your answer here!"
   ]
  },
  {
   "cell_type": "code",
   "execution_count": null,
   "metadata": {
    "application/vnd.databricks.v1+cell": {
     "inputWidgets": {},
     "nuid": "46856c77-76f7-48c5-b8ba-4e9b77c701ba",
     "showTitle": false,
     "title": ""
    }
   },
   "outputs": [],
   "source": [
    "# part a - a graph is just a list of nodes and edges (RUN THIS CELL AS IS)\n",
    "TOY_GRAPH = {'nodes':['A', 'B', 'C', 'D', 'E'],\n",
    "             'edges':[('A', 'B'), ('A', 'D'), ('B', 'C'), ('B', 'E'), ('C', 'D'), \n",
    "                      ('D', 'E'), ('E', 'A'),('E', 'B'), ('E', 'C')]}"
   ]
  },
  {
   "cell_type": "code",
   "execution_count": null,
   "metadata": {
    "application/vnd.databricks.v1+cell": {
     "inputWidgets": {},
     "nuid": "b417fa64-a875-472e-9ec1-421cc3a42311",
     "showTitle": false,
     "title": ""
    }
   },
   "outputs": [],
   "source": [
    "# part a - simple visualization of our toy graph using nx (RUN THIS CELL AS IS)\n",
    "G = nx.DiGraph()\n",
    "G.add_nodes_from(TOY_GRAPH['nodes'])\n",
    "G.add_edges_from(TOY_GRAPH['edges'])\n",
    "display(nx.draw(G, pos=nx.circular_layout(G), with_labels=True, alpha = 0.5))"
   ]
  },
  {
   "cell_type": "code",
   "execution_count": null,
   "metadata": {
    "application/vnd.databricks.v1+cell": {
     "inputWidgets": {},
     "nuid": "5f7318d4-2935-488b-bdeb-10a70e8971fa",
     "showTitle": false,
     "title": ""
    }
   },
   "outputs": [],
   "source": [
    "# part c - adjacency matrix function\n",
    "def get_adj_matr(graph):\n",
    "    \"\"\"\n",
    "    Function to create an adjacency matrix representation of a graph.\n",
    "    arg:\n",
    "        graph - (dict) of 'nodes' : [], 'edges' : []\n",
    "    returns:\n",
    "        pd.DataFrame with entry i,j representing an edge from node i to node j\n",
    "    \"\"\"\n",
    "    n = len(graph['nodes'])\n",
    "    adj_matr = pd.DataFrame(0, columns = graph['nodes'], index = graph['nodes'])\n",
    "    ############### YOUR CODE HERE ##################\n",
    "    \n",
    "    ############### (END) YOUR CODE #################\n",
    "    return adj_matr"
   ]
  },
  {
   "cell_type": "code",
   "execution_count": null,
   "metadata": {
    "application/vnd.databricks.v1+cell": {
     "inputWidgets": {},
     "nuid": "6a52b176-0d72-4f67-b4e5-3a390cd7573f",
     "showTitle": false,
     "title": ""
    }
   },
   "outputs": [],
   "source": [
    "# part c - take a look (RUN THIS CELL AS IS)\n",
    "TOY_ADJ_MATR = get_adj_matr(TOY_GRAPH)\n",
    "print(TOY_ADJ_MATR)"
   ]
  },
  {
   "cell_type": "code",
   "execution_count": null,
   "metadata": {
    "application/vnd.databricks.v1+cell": {
     "inputWidgets": {},
     "nuid": "05099c54-3a4c-4c1e-92eb-382fdd713851",
     "showTitle": false,
     "title": ""
    }
   },
   "outputs": [],
   "source": [
    "# part d - adjacency list function\n",
    "def get_adj_list(graph):\n",
    "    \"\"\"\n",
    "    Function to create an adjacency list representation of a graph.\n",
    "    arg:\n",
    "        graph - (dict) of 'nodes' : [], 'edges' : []\n",
    "    returns:\n",
    "        dictionary of the form {node : [list of edges]}\n",
    "    \"\"\"\n",
    "    adj_list = {node: [] for node in graph['nodes']}\n",
    "    ############### YOUR CODE HERE ##################\n",
    "\n",
    "    \n",
    "    ############### (END) YOUR CODE #################\n",
    "    return adj_list"
   ]
  },
  {
   "cell_type": "code",
   "execution_count": null,
   "metadata": {
    "application/vnd.databricks.v1+cell": {
     "inputWidgets": {},
     "nuid": "2cac0efa-176d-4bc4-811b-24d6a2f242fb",
     "showTitle": false,
     "title": ""
    }
   },
   "outputs": [],
   "source": [
    "# part d - take a look (RUN THIS CELL AS IS)\n",
    "TOY_ADJ_LIST = get_adj_list(TOY_GRAPH)\n",
    "print(TOY_ADJ_LIST)"
   ]
  },
  {
   "cell_type": "markdown",
   "metadata": {
    "application/vnd.databricks.v1+cell": {
     "inputWidgets": {},
     "nuid": "4ab1715e-4323-4946-b950-a05b879d1c83",
     "showTitle": false,
     "title": ""
    }
   },
   "source": [
    "# Question 3: Markov Chains and Random Walks\n",
    "\n",
    "As you know from your readings and in class discussions, the PageRank algorithm takes advantage of the machinery of Markov Chains to compute the relative importance of a webpage using the hyperlink structure of the web (we'll refer to this as the 'web-graph'). A Markov Chain is a discrete-time stochastic process. The stochastic matrix has a principal left eigen vector corresponding to its largest eigen value which is one. A Markov chain's probability distribution over its states may be viewed as a probability vector. This steady state probability for a state is the PageRank of the corresponding webpage. In this question we'll briefly discuss a few concepts that are key to understanding the math behind PageRank. \n",
    "\n",
    "General note: Q3 and Q4 use a sped-up convergence method for the `power_iteration()` function. You should speed up convergence by multiplying by the tMatrix twice. `tMatrix = tMatrix.dot(tMatrix)`. So instead of:\n",
    "```\n",
    "Step 0: xInit * tMatrix\n",
    "Step 1: xInit * tMatrix^2\n",
    "Step 2: xInit * tMatrix^3\n",
    "Step 3: xInit * tMatrix^4\n",
    "...\n",
    "```\n",
    "you should instead consider\n",
    "```\n",
    "Step 0: xInit * tMatrix\n",
    "Step 1: xInit * tMatrix^2\n",
    "Step 2: xInit * tMatrix^4\n",
    "Step 3: xInit * tMatrix^8\n",
    "...\n",
    "```\n",
    "This may vary slightly from what you see in Demo 10\n",
    "\n",
    "\n",
    "### Q3 Tasks:\n",
    "\n",
    "* __a) Multiple Choice:__ It is common to explain PageRank using the analogy of a web surfer who visits a page, randomly clicks a link on that page, and repeats ad infinitum. In the context of this hypothetical infinite random walk across web pages on the internet, which of the following choices most clearly describes the event that the __teleportation__ represents?\n",
    "\n",
    "* __b) Multiple Dropdowns:__ What is the \"Markov Property\" and what does it mean in the context of PageRank?\n",
    "\n",
    "* __c) Multiple Dropdowns:__ A Markov chain consists of $n$ states plus an $n\\times n$ transition probability matrix. In the context of PageRank & a random walk over the WebGraph, what are the $n$ states? what implications does this have about the size of the transition matrix?\n",
    "\n",
    "* __d) Multiple Choice:__ What is a \"right stochastic matrix\"?\n",
    "\n",
    "* __e) Code + Numerical Answer:__ Fill in the code below to compute the transition matrix for the toy graph from question 2. What is the value in the middle column of the last row (the probability of transitioning from node `E` to `C`)? Include the leading digit in front of the decimal, and round the number to at least 4 decimal places. Examples: 1.0000 or 0.1234. [__`HINT:`__ _It should be right stochastic. Using numpy this calculation can be done in one line of code._]\n",
    "\n",
    "* __f) Code:__ To compute the stable state distribution (i.e. PageRank) of a \"nice\" graph we can apply the power iteration method - repeatedly multiplying the transition matrix by itself, until the values no longer change. Apply this strategy to your transition matrix from `part d` to find the PageRank for each of the pages in your toy graph. Your code should print the results of each iteration. \n",
    "    * __`NOTE 1:`__ _this is a naive approach, we'll unpack what it means to be \"nice\" in the next question_.\n",
    "    * __`NOTE 2:`__ _no need to implement a stopping criteria, visual inspection should suffice_.\n",
    "    * __`NOTE 3:`__ _refer to the General note section above, and use the `tMatrix = tMatrix.dot(tMatrix)` approach for faster convergence_.\n",
    "\n",
    "\n",
    "* __g) Numerical Answer:__ How many iterations does it take to converge?\n",
    "\n",
    "* __h) Multiple Choice:__ Which node is the least 'central' (i.e., it has the lowest ranked)?\n"
   ]
  },
  {
   "cell_type": "markdown",
   "metadata": {},
   "source": [
    "### Q3 Student Answers:\n",
    "OPTIONAL - if you'd like to save your answers in this notebook: \n",
    "\n",
    "> __a)__ Type your answer here!\n",
    "\n",
    "> __b)__ Type your answer here!\n",
    "\n",
    "> __c)__ Type your answer here!  \n",
    "\n",
    "> __d)__ Type your answer here!  \n",
    "\n",
    "> __e)__ Type your answer here!  \n",
    "\n",
    "> __g)__ Type your answer here!  \n",
    "\n",
    "> __h)__ Type your answer here!  "
   ]
  },
  {
   "cell_type": "code",
   "execution_count": null,
   "metadata": {
    "application/vnd.databricks.v1+cell": {
     "inputWidgets": {},
     "nuid": "395d0663-da14-44f6-a335-e2a13611249c",
     "showTitle": false,
     "title": ""
    }
   },
   "outputs": [],
   "source": [
    "# part e - recall what the adjacency matrix looked like (RUN THIS CELL AS IS)\n",
    "TOY_ADJ_MATR"
   ]
  },
  {
   "cell_type": "code",
   "execution_count": null,
   "metadata": {
    "application/vnd.databricks.v1+cell": {
     "inputWidgets": {},
     "nuid": "c271a169-6581-479c-8733-80d644bfd9d1",
     "showTitle": false,
     "title": ""
    }
   },
   "outputs": [],
   "source": [
    "# part e - use TOY_ADJ_MATR to create a right stochastic transition matrix for this graph\n",
    "################ YOUR CODE HERE #################\n",
    "transition_matrix = None # replace with your code\n",
    "\n",
    "################ (END) YOUR CODE #################\n",
    "print(transition_matrix)"
   ]
  },
  {
   "cell_type": "code",
   "execution_count": null,
   "metadata": {
    "application/vnd.databricks.v1+cell": {
     "inputWidgets": {},
     "nuid": "eff2c165-6a3b-413b-9497-3d0dd6c1c98f",
     "showTitle": false,
     "title": ""
    }
   },
   "outputs": [],
   "source": [
    "# part f - compute the steady state using the transition matrix \n",
    "def power_iteration(xInit, tMatrix, nIter, verbose = True):\n",
    "    \"\"\"\n",
    "    Function to perform the specified number of power iteration steps to \n",
    "    compute the steady state probability distribution for the given\n",
    "    transition matrix.\n",
    "    \n",
    "    Args:\n",
    "        xInit     - (n x 1 array) representing inial state\n",
    "        tMatrix  - (n x n array) transition probabilities\n",
    "        nIter     - (int) number of iterations\n",
    "    Returns:\n",
    "        state_vector - (n x 1 array) representing probability \n",
    "                        distribution over states after nSteps.\n",
    "    \n",
    "    NOTE: if the 'verbose' flag is on, your function should print the step\n",
    "    number and the current matrix at each iteration.\n",
    "    \"\"\"\n",
    "    state_vector = None\n",
    "    ################ YOUR CODE HERE #################\n",
    "\n",
    "    \n",
    "    \n",
    "    \n",
    "    ################ (END) YOUR CODE #################\n",
    "    return state_vector"
   ]
  },
  {
   "cell_type": "code",
   "execution_count": null,
   "metadata": {
    "application/vnd.databricks.v1+cell": {
     "inputWidgets": {},
     "nuid": "2000ad16-0adb-4607-b1fa-7529993f1f51",
     "showTitle": false,
     "title": ""
    }
   },
   "outputs": [],
   "source": [
    "# part f - run 10 steps of the power_iteration (RUN THIS CELL AS IS)\n",
    "xInit = np.array([1.0, 0, 0, 0, 0]) # note that this initial state will not affect the convergence states\n",
    "states = power_iteration(xInit, transition_matrix, 10, verbose = True)"
   ]
  },
  {
   "cell_type": "markdown",
   "metadata": {
    "application/vnd.databricks.v1+cell": {
     "inputWidgets": {},
     "nuid": "a4391eaa-5068-4a23-ac08-121ca1add4e7",
     "showTitle": false,
     "title": ""
    }
   },
   "source": [
    "__`Expected Output for part e after 10 iterations:`__  \n",
    ">Steady State Probabilities:\n",
    "```\n",
    "[0.10526316 0.15789474 0.18421053 0.23684211 0.31578947] \n",
    "```"
   ]
  },
  {
   "cell_type": "markdown",
   "metadata": {
    "application/vnd.databricks.v1+cell": {
     "inputWidgets": {},
     "nuid": "d257366f-f8c2-4f48-beae-0fde2595ddea",
     "showTitle": false,
     "title": ""
    }
   },
   "source": [
    "# Question 4: Page Rank Theory\n",
    "\n",
    "Seems easy right? Unfortunately applying this power iteration method directly to the web-graph actually runs into a few problems. In this question we'll tease apart what we meant by a 'nice graph' in Question 3 and highlight key modifications we'll have to make to the web-graph when performing PageRank. To start, we'll look at what goes wrong when we try to repeat our strategy from question 3 on a 'not nice' graph.\n",
    "\n",
    "__`Additional References:`__ http://pi.math.cornell.edu/~mec/Winter2009/RalucaRemus/Lecture3/lecture3.html\n",
    "\n",
    "### Q4 Tasks:\n",
    "\n",
    "* __a) code + Multiple Choice:__ Run the provided code to create and plot our 'not nice' graph. Fill in the missing code to compute its transition matrix & run the power iteration method from question 3. What are the first values in steps 1, 2, and 3 of the power iteration method? [__`HINT:`__ _We start the iteration at step number 0. If you start your iteration at step number 1, then you should answer with the values from step 2, 3, and 4 instead_]\n",
    "\n",
    "* __b) Multiple Choice:__ What is wrong with what you see in part a? [__`HINT:`__ _there is a visible underlying reason that it isn't converging... try adding up the probabilities in the state vector after each iteration._]\n",
    "\n",
    "* __c) Multiple Choice:__  Identify the dangling node in this 'not nice' graph and explain how this node causes the problem in 'a'. How could we modify the transition matrix after each iteration to prevent this problem?\n",
    "\n",
    "* __d) Multiple Choice:__ What does it mean for a graph to be irreducible? Is the webgraph naturally irreducible? Choose your reasoning.\n",
    "\n",
    "* __e) Multiple Choice:__ What does it mean for a graph to be aperiodic? Is the webgraph naturally aperiodic? Choose your reasoning.\n",
    "\n",
    "* __f) Multiple Choice:__ What modifications to the webgraph does PageRank make in order to guarantee aperiodicity and irreducibility? [__`HINT:`__ _select 2 answers_]"
   ]
  },
  {
   "cell_type": "markdown",
   "metadata": {
    "application/vnd.databricks.v1+cell": {
     "inputWidgets": {},
     "nuid": "02186cdf-0134-403c-9783-73137d829b29",
     "showTitle": false,
     "title": ""
    }
   },
   "source": [
    "### Q4 Student Answers:\n",
    "OPTIONAL - if you'd like to save your answers in this notebook: \n",
    "\n",
    "> __a)__ Type your answer here!\n",
    "\n",
    "> __b)__ Type your answer here!\n",
    "\n",
    "> __c)__ Type your answer here!\n",
    "\n",
    "> __d)__ Type your answer here!  \n",
    "\n",
    "> __e)__ Type your answer here!\n",
    "\n",
    "> __f)__ Type your answer here!"
   ]
  },
  {
   "cell_type": "code",
   "execution_count": null,
   "metadata": {
    "application/vnd.databricks.v1+cell": {
     "inputWidgets": {},
     "nuid": "5b955938-299e-4145-be86-695d55b45e47",
     "showTitle": false,
     "title": ""
    }
   },
   "outputs": [],
   "source": [
    "# part a - run this code to create a second toy graph (RUN THIS CELL AS IS)\n",
    "TOY2_GRAPH = {'nodes':['A', 'B', 'C', 'D', 'E'],\n",
    "              'edges':[('A', 'B'), ('A', 'C'), ('A', 'D'), ('B', 'D'), \n",
    "                       ('B', 'E'), ('C', 'A'), ('C', 'E'), ('D', 'B')]}"
   ]
  },
  {
   "cell_type": "code",
   "execution_count": null,
   "metadata": {
    "application/vnd.databricks.v1+cell": {
     "inputWidgets": {},
     "nuid": "c954c14c-faa3-4791-bf58-316faf086586",
     "showTitle": false,
     "title": ""
    }
   },
   "outputs": [],
   "source": [
    "# part a - simple visualization of our test graph using nx (RUN THIS CELL AS IS)\n",
    "G = nx.DiGraph()\n",
    "G.add_nodes_from(TOY2_GRAPH['nodes'])\n",
    "G.add_edges_from(TOY2_GRAPH['edges'])\n",
    "display(nx.draw(G, pos=nx.circular_layout(G), with_labels=True, alpha = 0.5))"
   ]
  },
  {
   "cell_type": "code",
   "execution_count": null,
   "metadata": {
    "application/vnd.databricks.v1+cell": {
     "inputWidgets": {},
     "nuid": "214fe212-37a7-42ad-9123-8d18ac7916cf",
     "showTitle": false,
     "title": ""
    }
   },
   "outputs": [],
   "source": [
    "# part a - run 10 steps of the power iteration method here\n",
    "# HINT: feel free to use the functions get_adj_matr() and power_iteration() you wrote above\n",
    "################ YOUR CODE HERE #################\n",
    "adj_matr = None # replace with your code\n",
    "trans_matr = None # replace with your code\n",
    "\n",
    "state = None # replace with your code\n",
    "################ (END) YOUR CODE #################"
   ]
  },
  {
   "cell_type": "markdown",
   "metadata": {
    "application/vnd.databricks.v1+cell": {
     "inputWidgets": {},
     "nuid": "e5a50474-f7a3-4ab0-b2cd-d34c19b56d67",
     "showTitle": false,
     "title": ""
    }
   },
   "source": [
    "# Question 5: EDA part 1 (number of nodes)\n",
    "\n",
    "## About the Data\n",
    "The main dataset for this data consists of a subset of a 500GB dataset released by AWS in 2009. The data includes the source and metadata for all of the Wikimedia wikis. You can read more here: \n",
    "> https://aws.amazon.com/blogs/aws/new-public-data-set-wikipedia-xml-data. \n",
    "\n",
    "Use the cells below to download the wikipedia data and a test file for use in developing your PageRank implementation(note that we'll use the 'indexed out' version of the graph) and to take a look at the files."
   ]
  },
  {
   "cell_type": "code",
   "execution_count": null,
   "metadata": {},
   "outputs": [],
   "source": [
    "HW5_FOLDER"
   ]
  },
  {
   "cell_type": "code",
   "execution_count": null,
   "metadata": {},
   "outputs": [],
   "source": [
    "!gsutil ls -l {HW5_FOLDER}"
   ]
  },
  {
   "cell_type": "code",
   "execution_count": null,
   "metadata": {},
   "outputs": [],
   "source": [
    "!gsutil ls -l {HW5_FOLDER}/data"
   ]
  },
  {
   "cell_type": "code",
   "execution_count": null,
   "metadata": {
    "application/vnd.databricks.v1+cell": {
     "inputWidgets": {},
     "nuid": "221607ca-4cc1-4559-af28-6fd16297ec28",
     "showTitle": false,
     "title": ""
    }
   },
   "outputs": [],
   "source": [
    "# load the data into Spark RDDs for convenience of use later (RUN THIS CELL AS IS)\n",
    "testRDD = sc.textFile(HW5_FOLDER + '/data/test_graph.txt')\n",
    "indexRDD = sc.textFile(HW5_FOLDER + '/data/indices/')\n",
    "wikiRDD = sc.textFile(HW5_FOLDER + '/data/all-pages-indexed-out/')"
   ]
  },
  {
   "cell_type": "code",
   "execution_count": null,
   "metadata": {
    "application/vnd.databricks.v1+cell": {
     "inputWidgets": {},
     "nuid": "ab53dc55-a862-4c17-8ffb-7b56b9b2a3ad",
     "showTitle": false,
     "title": ""
    }
   },
   "outputs": [],
   "source": [
    "# display testRDD (RUN THIS CELL AS IS)\n",
    "testRDD.take(10)"
   ]
  },
  {
   "cell_type": "code",
   "execution_count": null,
   "metadata": {
    "application/vnd.databricks.v1+cell": {
     "inputWidgets": {},
     "nuid": "bdeec119-bac4-430b-b862-bbf8b8068f54",
     "showTitle": false,
     "title": ""
    }
   },
   "outputs": [],
   "source": [
    "# display indexRDD (RUN THIS CELL AS IS)\n",
    "indexRDD.take(10)"
   ]
  },
  {
   "cell_type": "code",
   "execution_count": null,
   "metadata": {
    "application/vnd.databricks.v1+cell": {
     "inputWidgets": {},
     "nuid": "f0833912-6f83-4191-9550-39c2d9b8fbf2",
     "showTitle": false,
     "title": ""
    }
   },
   "outputs": [],
   "source": [
    "# display wikiRDD (RUN THIS CELL AS IS)\n",
    "wikiRDD.take(10)"
   ]
  },
  {
   "cell_type": "markdown",
   "metadata": {
    "application/vnd.databricks.v1+cell": {
     "inputWidgets": {},
     "nuid": "abeb909c-43b7-4c77-abd9-95a1cdf5365b",
     "showTitle": false,
     "title": ""
    }
   },
   "source": [
    "### Q5 Tasks\n",
    "\n",
    "As usual, before we dive in to the main analysis, we'll peform some exploratory data anlysis to understand our dataset. Please use the test graph that you downloaded to test all your code before running the full dataset.\n",
    "\n",
    "* __a) Matching:__ What is the format of the raw data? What does the first value represent? What does the second part of each line represent? [__`HINT:`__ _no need to go digging here, just visually inspect the outputs of the head commands that we ran after loading the data above._]\n",
    "\n",
    "* __b) Multiple Choice:__ Run the provided bash command to count the number of records in the raw dataset. Explain why this is _not_ the same as the number of total nodes in the graph.\n",
    "\n",
    "* __c) code:__ In the space provided below write a Spark job to count the _total number_ of nodes in this graph. \n",
    "\n",
    "* __d) Numeric:__ How many dangling nodes are there in this wikipedia graph? [__`HINT:`__ _you should not need any code to answer this question._]"
   ]
  },
  {
   "cell_type": "markdown",
   "metadata": {
    "application/vnd.databricks.v1+cell": {
     "inputWidgets": {},
     "nuid": "b8a372b3-1d7e-4538-b546-b24c53d97772",
     "showTitle": false,
     "title": ""
    }
   },
   "source": [
    "### Q5 Student Answers:\n",
    "OPTIONAL - if you'd like to save your answers in this notebook: \n",
    "\n",
    "> __a)__ Type your answer here! \n",
    "\n",
    "> __b)__ Type your answer here! \n",
    "\n",
    "> __d)__ Type your answer here! "
   ]
  },
  {
   "cell_type": "code",
   "execution_count": null,
   "metadata": {
    "application/vnd.databricks.v1+cell": {
     "inputWidgets": {},
     "nuid": "f03cc8a6-c2f9-4ef5-bf04-6f391f8fc130",
     "showTitle": false,
     "title": ""
    }
   },
   "outputs": [],
   "source": [
    "# part b - count the number of records in the raw data (RUN THIS CELL AS IS)\n",
    "# 5781290\n",
    "print(wikiRDD.count())"
   ]
  },
  {
   "cell_type": "code",
   "execution_count": null,
   "metadata": {
    "application/vnd.databricks.v1+cell": {
     "inputWidgets": {},
     "nuid": "02a52d86-b9bd-440b-a5c5-1fe7cca822d5",
     "showTitle": false,
     "title": ""
    }
   },
   "outputs": [],
   "source": [
    "# part c - write your Spark job here (compute total number of nodes)\n",
    "def count_nodes(dataRDD):\n",
    "    \"\"\"\n",
    "    Spark job to count the total number of nodes.\n",
    "    Returns: integer count \n",
    "    \"\"\"    \n",
    "    ############## YOUR CODE HERE ###############\n",
    "    totalCount = None  # replace with your code\n",
    "    \n",
    "    \n",
    "    \n",
    "    ############## (END) YOUR CODE ###############   \n",
    "    return totalCount"
   ]
  },
  {
   "cell_type": "code",
   "execution_count": null,
   "metadata": {
    "application/vnd.databricks.v1+cell": {
     "inputWidgets": {},
     "nuid": "3778d2a6-13c3-4c84-8eaf-c9a8a3f6a112",
     "showTitle": false,
     "title": ""
    }
   },
   "outputs": [],
   "source": [
    "# part c - run your counting job on the test file (RUN THIS CELL AS IS)\n",
    "start = time.time()\n",
    "tot = count_nodes(testRDD)\n",
    "print(f'... completed job in {time.time() - start} seconds.')\n",
    "print(f'Total Nodes: {tot}')"
   ]
  },
  {
   "cell_type": "code",
   "execution_count": null,
   "metadata": {
    "application/vnd.databricks.v1+cell": {
     "inputWidgets": {},
     "nuid": "1cad9491-9628-4629-ac57-9f035b8971c9",
     "showTitle": false,
     "title": ""
    }
   },
   "outputs": [],
   "source": [
    "# part c - run your counting job on the full file (RUN THIS CELL AS IS)\n",
    "start = time.time()\n",
    "tot = count_nodes(wikiRDD)\n",
    "print(f'... completed job in {time.time() - start} seconds.')\n",
    "print(f'Total Nodes: {tot}')"
   ]
  },
  {
   "cell_type": "markdown",
   "metadata": {
    "application/vnd.databricks.v1+cell": {
     "inputWidgets": {},
     "nuid": "8e5cd038-e3e4-45cc-9f80-14e0a1184820",
     "showTitle": false,
     "title": ""
    }
   },
   "source": [
    "# Question 6 - EDA part 2 (out-degree distribution)\n",
    "\n",
    "As you've seen in previous homeworks the computational complexity of an implementation depends not only on the number of records in the original dataset but also on the number of records we create and shuffle in our intermediate representation of the data. The number of intermediate records required to update PageRank is related to the number of edges in the graph. In this question you'll compute the average number of hyperlinks on each page in this data and visualize a distribution for these counts (the out-degree of the nodes). \n",
    "\n",
    "### Q6 Tasks:\n",
    "\n",
    "* __a1) code:__ In the space provided below write a Spark job to stream over the data and compute all of the following information:\n",
    "  * Count the number of out-degree for each __non-dangling node__ and return the names of the top 10 pages with the most hyperlinks\n",
    "  * Find the average out-degree for all __non-dangling nodes__ in the graph\n",
    "  * Take a 1000 point sample of these out-degree counts and plot a histogram of the result. \n",
    "<br>\n",
    "<br>\n",
    " \n",
    "* __a2) Numeric:__ What is the average out-degree of the `testRDD`?\n",
    "\n",
    "* __a3) Multiple Choice:__ What is the top node by out-degree of the `wikiRDD`?\n",
    "\n",
    "* __b) Multiple Dropdown:__ In the context of the PageRank algorithm, how is information about a node's out degree used?\n",
    "\n",
    "* __c) Multiple Answer:__ What does it mean if a node's out-degree is 0? In PageRank how will we handle these nodes differently than others? Select all that apply. [__Hint:__ _select 3 answers_]\n",
    " \n",
    "__`NOTE:`__ Please observe scalability best practices in the design of your code & comment your work clearly. You will be graded on both the clarity and the design."
   ]
  },
  {
   "cell_type": "markdown",
   "metadata": {
    "application/vnd.databricks.v1+cell": {
     "inputWidgets": {},
     "nuid": "df6b426c-4bee-4e65-9596-21be8f3cf8cc",
     "showTitle": false,
     "title": ""
    }
   },
   "source": [
    "### Q6 Student Answers:\n",
    "OPTIONAL - if you'd like to save your answers in this notebook: \n",
    "\n",
    "> __a2)__ Type your answer here!\n",
    "\n",
    "> __a3)__ Type your answer here!\n",
    "\n",
    "> __b)__ Type your answer here! \n",
    "\n",
    "> __c)__ Type your answer here!"
   ]
  },
  {
   "cell_type": "code",
   "execution_count": null,
   "metadata": {
    "application/vnd.databricks.v1+cell": {
     "inputWidgets": {},
     "nuid": "3733e4c5-5f90-4c11-b3a1-7f3bb0e5872a",
     "showTitle": false,
     "title": ""
    }
   },
   "outputs": [],
   "source": [
    "# part a - write your Spark job here (compute average in-degree, etc)\n",
    "def count_degree(dataRDD, n):\n",
    "    \"\"\"\n",
    "    Function to analyze out-degree of nodes in a a graph.\n",
    "    Returns: \n",
    "        top  - (list of 10 tuples) nodes with most edges\n",
    "        avgDegree - (float) average out-degree for non-dangling nodes\n",
    "        sampledCounts - (list of integers) out-degree for n randomly sampled non-dangling nodes\n",
    "    \"\"\"\n",
    "    # helper func\n",
    "    def parse(line):\n",
    "        node, edges = line.split('\\t')\n",
    "        return (node, ast.literal_eval(edges))\n",
    "    \n",
    "    ############## YOUR CODE HERE ###############\n",
    "    \n",
    "    \n",
    "    top = None  # replace with your code\n",
    "    avgDegree = None  # replace with your code\n",
    "    sampledCounts = None  # replace with your code\n",
    "    ############## (END) YOUR CODE ###############\n",
    "    \n",
    "    return top, avgDegree, sampledCounts"
   ]
  },
  {
   "cell_type": "code",
   "execution_count": null,
   "metadata": {
    "application/vnd.databricks.v1+cell": {
     "inputWidgets": {},
     "nuid": "e280f486-8536-44c1-9d73-e0ab09f62046",
     "showTitle": false,
     "title": ""
    }
   },
   "outputs": [],
   "source": [
    "# part a - run your job on the test file (RUN THIS CELL AS IS)\n",
    "start = time.time()\n",
    "test_results = count_degree(testRDD,10)\n",
    "print(f\"... completed job in {time.time() - start} seconds\")\n",
    "print(\"Average out-degree: \", test_results[1])\n",
    "print(\"Top 10 nodes (by out-degree:)\\n\", test_results[0])"
   ]
  },
  {
   "cell_type": "code",
   "execution_count": null,
   "metadata": {
    "application/vnd.databricks.v1+cell": {
     "inputWidgets": {},
     "nuid": "073bb923-bf6c-4c7b-9a04-c9ccf33fd58b",
     "showTitle": false,
     "title": ""
    }
   },
   "outputs": [],
   "source": [
    "# part a - plot results from test file (RUN THIS CELL AS IS)\n",
    "plt.hist(test_results[2], bins=10)\n",
    "plt.title(\"Distribution of Out-Degree\")\n",
    "display(plt.show())"
   ]
  },
  {
   "cell_type": "code",
   "execution_count": null,
   "metadata": {
    "application/vnd.databricks.v1+cell": {
     "inputWidgets": {},
     "nuid": "911b66e0-01ce-483e-b471-292f3b86001a",
     "showTitle": false,
     "title": ""
    }
   },
   "outputs": [],
   "source": [
    "# part a - run your job on the full file (RUN THIS CELL AS IS)\n",
    "start = time.time()\n",
    "full_results = count_degree(wikiRDD,1000)\n",
    "\n",
    "print(f\"... completed job in {time.time() - start} seconds\")\n",
    "print(\"Average out-degree: \", full_results[1])\n",
    "print(\"Top 10 nodes (by out-degree:)\\n\", full_results[0])"
   ]
  },
  {
   "cell_type": "code",
   "execution_count": null,
   "metadata": {
    "application/vnd.databricks.v1+cell": {
     "inputWidgets": {},
     "nuid": "ace6cf84-9e29-4cc7-9ce7-f6d8d8ee5f26",
     "showTitle": false,
     "title": ""
    }
   },
   "outputs": [],
   "source": [
    "# part a - plot results from full file (RUN THIS CELL AS IS)\n",
    "plt.hist(full_results[2], bins=50)\n",
    "plt.title(\"Distribution of Out-Degree\")\n",
    "display(plt.show())"
   ]
  },
  {
   "cell_type": "markdown",
   "metadata": {
    "application/vnd.databricks.v1+cell": {
     "inputWidgets": {},
     "nuid": "2335011b-57ae-417b-a682-b3f7f8ce0a01",
     "showTitle": false,
     "title": ""
    }
   },
   "source": [
    "# Question 7 - PageRank part 1 (Initialize the Graph)\n",
    "\n",
    "One of the challenges of performing distributed graph computation is that you must pass the entire graph structure through each iteration of your algorithm. As usual, we seek to design our computation so that as much work as possible can be done using the contents of a single record. In the case of PageRank, we'll need each record to include a node, its list of neighbors and its (current) rank. In this question you'll initialize the graph by creating a record for each dangling node and by setting the initial rank to 1/N for all nodes. \n",
    "\n",
    "__`NOTE:`__ Your solution should _not_ hard code $N$.\n",
    "\n",
    "### Q7 Tasks:\n",
    "* __a) Multiple Choice:__ What is $N$? \n",
    "\n",
    "* __b) Multiple Selection:__ Using the analogy of the infinite random web-surfer, how do we use $\\frac{1}{N}$? [__HINT:__ _select 2 answers_]\n",
    "\n",
    "* __c) True or False:__ Will it be more efficient to compute \\\\(N\\\\) before initializing records for each dangling node or after? Select True or False for each of the statements.\n",
    "\n",
    "* __d) Code:__ Fill in the missing code below to create a Spark job that:\n",
    "  * parses each input record\n",
    "  * creates a new record for any dangling nodes and sets it edges (neighbors) to be a empty [__HINT:__ _you should use the same data type with the edges for non-dangling nodes_]\n",
    "  * initializes a rank of 1/N for each node\n",
    "  * returns a pair RDD with records in the format specified by the docstring\n",
    "\n",
    "\n",
    "* __e) Numerical Answer:__ Run the provided code to confirm that your job in `part d` has a record for each node. Your records should match the format specified in the docstring and the count should match what you computed in question 5. Then answer the question: how many edges does the node `13415942` have? [__`TIP:`__ _you might want to take a moment to write out what expected outputs you should get for the test graph, this will help you know your code works as expected_]\n",
    " \n",
    "__`NOTE:`__ Please observe scalability best practices in the design of your code & comment your work clearly. You will be graded on both the clarity and the design."
   ]
  },
  {
   "cell_type": "markdown",
   "metadata": {
    "application/vnd.databricks.v1+cell": {
     "inputWidgets": {},
     "nuid": "ab638b99-08ce-4570-92ad-a4fb6cb4d2ac",
     "showTitle": false,
     "title": ""
    }
   },
   "source": [
    "### Q7 Student Answers:\n",
    "OPTIONAL - if you'd like to save your answers in this notebook: \n",
    "\n",
    "> __a)__ Type your answer here!\n",
    "\n",
    "> __b)__ Type your answer here!\n",
    "\n",
    "> __c)__ Type your answer here! \n",
    "\n",
    "> __e)__ Type your answer here!"
   ]
  },
  {
   "cell_type": "code",
   "execution_count": null,
   "metadata": {
    "application/vnd.databricks.v1+cell": {
     "inputWidgets": {},
     "nuid": "785e5640-4910-4e18-b7fc-09dc7d8dc69e",
     "showTitle": false,
     "title": ""
    }
   },
   "outputs": [],
   "source": [
    "# part d - job to initialize the graph\n",
    "def initGraph(dataRDD):\n",
    "    \"\"\"\n",
    "    Spark job to read in the raw data and initialize an \n",
    "    adjacency list representation with a record for each\n",
    "    node (including dangling nodes).\n",
    "    \n",
    "    Returns: \n",
    "        graphRDD -  a pair RDD of (node_id , (score, edges))\n",
    "        \n",
    "    NOTE: The score should be a float, but you may want to be \n",
    "    strategic about how format the edges... there are a few \n",
    "    options that can work. Make sure that whatever you choose\n",
    "    is sufficient for Question 8 where you'll run PageRank.\n",
    "    \"\"\"\n",
    "    ############## YOUR CODE HERE ###############\n",
    "\n",
    "    # write any helper functions here\n",
    "    \n",
    "    \n",
    "    \n",
    "    \n",
    "    \n",
    "    \n",
    "    \n",
    "    \n",
    "    \n",
    "    # write your main Spark code here\n",
    "    graphRDD = None # replace with your code\n",
    "    \n",
    "    \n",
    "    \n",
    "    \n",
    "    ############## (END) YOUR CODE ##############\n",
    "    \n",
    "    return graphRDD"
   ]
  },
  {
   "cell_type": "code",
   "execution_count": null,
   "metadata": {
    "application/vnd.databricks.v1+cell": {
     "inputWidgets": {},
     "nuid": "defa9d85-90e7-4888-9d8d-b55fea07b625",
     "showTitle": false,
     "title": ""
    }
   },
   "outputs": [],
   "source": [
    "# part e - run your Spark job on the test graph (RUN THIS CELL AS IS)\n",
    "start = time.time()\n",
    "testGraph = initGraph(testRDD).collect()\n",
    "print(f'... test graph initialized in {time.time() - start} seconds.')\n",
    "testGraph"
   ]
  },
  {
   "cell_type": "code",
   "execution_count": null,
   "metadata": {
    "application/vnd.databricks.v1+cell": {
     "inputWidgets": {},
     "nuid": "87b373f0-605a-4aa9-a938-ae43b9b22ca2",
     "showTitle": false,
     "title": ""
    }
   },
   "outputs": [],
   "source": [
    "# part e - run your code on the main graph (RUN THIS CELL AS IS)\n",
    "# Takes about 100 seconds\n",
    "start = time.time()\n",
    "wikiGraphRDD = initGraph(wikiRDD)\n",
    "print(f'... full graph initialized in {time.time() - start} seconds')"
   ]
  },
  {
   "cell_type": "code",
   "execution_count": null,
   "metadata": {
    "application/vnd.databricks.v1+cell": {
     "inputWidgets": {},
     "nuid": "13e1392b-448f-478f-9dd3-aa37e905b334",
     "showTitle": false,
     "title": ""
    }
   },
   "outputs": [],
   "source": [
    "# part e - confirm record format and count (RUN THIS CELL AS IS)\n",
    "start = time.time()\n",
    "print(f'Total number of records: {wikiGraphRDD.count()}')\n",
    "node = wikiGraphRDD.sortByKey().lookup(13415942) \n",
    "print(\"Node 13415942's initialized record:\", node)\n",
    "print(f\"\\n\\nNode 13415942 has {len(node[0][1].split(','))} outlinks.\")\n",
    "print(f'Time to complete: {time.time() - start} seconds.')"
   ]
  },
  {
   "cell_type": "markdown",
   "metadata": {
    "application/vnd.databricks.v1+cell": {
     "inputWidgets": {},
     "nuid": "8767c84f-b5de-4e99-8089-79c303d54d64",
     "showTitle": false,
     "title": ""
    }
   },
   "source": [
    "# Question 8 - PageRank part 2 (Iterate until convergence)\n",
    "\n",
    "Finally we're ready to compute the page rank. In this last question you'll write a Spark job that iterates over the initialized graph updating each nodes score until it reaches a convergence threshold. The diagram below gives a visual overview of the process using a 5 node toy graph. Pay particular attention to what happens to the dangling mass at each iteration.\n",
    "\n",
    "<img src='https://github.com/kyleiwaniec/w261_assets/blob/master/images/HW5/PR-illustrated.png?raw=true' width=50%>\n",
    "\n",
    "\n",
    "\n",
    "__`A Note about Notation:`__ The formula above describes how to compute the updated page rank for a node in the graph. The $P$ on the left hand side of the equation is the new score, and the $P$ on the right hand side of the equation represents the accumulated mass that was re-distributed from all of that node's in-links. Finally, $|G|$ is the number of nodes in the graph (which we've elsewhere refered to as $N$).\n",
    "\n",
    "### Q8 Tasks:\n",
    "* __a) Multiple Answers:__ In terms of the infinite random walk analogy, interpret the meaning of the first term in the PageRank calculation: $\\alpha * \\frac{1}{|G|}$. \n",
    "    [__Hint__: _select two answers_]\n",
    "\n",
    "* __b) Multiple Choice:__ In the equation for the PageRank calculation above what does $m$ represent and why do we divide it by $|G|$?\n",
    "\n",
    "* __c) Numerical Answer:__ Keeping track of the total probability mass after each update is a good way to confirm that your algorithm is on track. How much should the total mass be after each iteration?\n",
    "\n",
    "* __d) Code & Multiple Choice:__ Fill in the missing code below to create a Spark job that take the initialized graph as its input then iterates over the graph and for each pass:\n",
    "  * reads in each record and redistributes the node's current score to each of its neighbors\n",
    "  * uses an accumulator to add up the dangling node mass and redistribute it among all the nodes. (_Don't forget to reset this accumulator after each iteration!_)\n",
    "  * uses an accumulator to keep track of the total mass being redistributed.( _This is just for your own check, its not part of the PageRank calculation. Don't forget to reset this accumulator after each iteration._)\n",
    "  * aggregates these partial scores for each node\n",
    "  * applies telportation and damping factors as described in the formula above.\n",
    "  * combine all of the above to compute the PageRank as described by the formula above.\n",
    "  <br>\n",
    "\n",
    "  Then answer the question: What is the top ranked node of the `wikiaGraphRDD`?\n",
    "    \n",
    "> TIP: You can check your work for part `d` by looking at the nodes in the top 20-40th positions by PageRank score, which should match the expected output.\n",
    "\n",
    "   __WARNING:__ Some pages contain multiple hyperlinks to the same destination, please take this into account when redistributing the mass.\n",
    "\n",
    " \n",
    "__`NOTE:`__ Please observe scalability best practices in the design of your code & comment your work clearly. You will be graded on both the clarity and the design."
   ]
  },
  {
   "cell_type": "markdown",
   "metadata": {
    "application/vnd.databricks.v1+cell": {
     "inputWidgets": {},
     "nuid": "42c759e9-1234-4ba2-81e0-b01e45b2c4c0",
     "showTitle": false,
     "title": ""
    }
   },
   "source": [
    "### Q8 Student Answers:\n",
    "OPTIONAL - if you'd like to save your answers in this notebook: \n",
    "\n",
    "> __a)__ Type your answer here!\n",
    "\n",
    "> __b)__ Type your answer here! \n",
    "\n",
    "> __c)__ Type your answer here!"
   ]
  },
  {
   "cell_type": "markdown",
   "metadata": {},
   "source": [
    "The following cell can be used as additonal info / background knowledge on how to create a custom accumulator class. **YOU DO NOT NEED TO USE THIS CLASS IN ORDER TO COMPLETE THE ASSIGNMENT.**"
   ]
  },
  {
   "cell_type": "code",
   "execution_count": null,
   "metadata": {
    "application/vnd.databricks.v1+cell": {
     "inputWidgets": {},
     "nuid": "2b1b408d-a497-49ce-bc7f-0f3b6731330f",
     "showTitle": false,
     "title": ""
    }
   },
   "outputs": [],
   "source": [
    "#  *** OPTIONAL.. SEE NOTE ABOVE ***\n",
    "# part d - provided FloatAccumulator class (RUN THIS CELL AS IS) \n",
    "\n",
    "from pyspark.accumulators import AccumulatorParam\n",
    "\n",
    "class FloatAccumulatorParam(AccumulatorParam):\n",
    "    \"\"\"\n",
    "    Custom accumulator for use in page rank to keep track of various masses.\n",
    "    \n",
    "    IMPORTANT: accumulators should only be called inside actions to avoid duplication.\n",
    "    We stringly recommend you use the 'foreach' action in your implementation below.\n",
    "    \"\"\"\n",
    "    def zero(self, value):\n",
    "        return value\n",
    "    def addInPlace(self, val1, val2):\n",
    "        return val1 + val2"
   ]
  },
  {
   "cell_type": "code",
   "execution_count": null,
   "metadata": {
    "application/vnd.databricks.v1+cell": {
     "inputWidgets": {},
     "nuid": "0106d82e-5638-4a9c-b35a-96a730589792",
     "showTitle": false,
     "title": ""
    }
   },
   "outputs": [],
   "source": [
    "# part d - job to run PageRank\n",
    "def runPageRank(graphInitRDD, alpha = 0.15, maxIter = 10, verbose = True):\n",
    "    \"\"\"\n",
    "    Spark job to implement page rank\n",
    "    Args: \n",
    "        graphInitRDD  - pair RDD of (node_id , (score, edges))\n",
    "        alpha         - (float) teleportation factor\n",
    "        maxIter       - (int) stopping criteria (number of iterations)\n",
    "        verbose       - (bool) option to print logging info after each iteration\n",
    "    Returns:\n",
    "        steadyStateRDD - pair RDD of (node_id, pageRank)\n",
    "    \"\"\"\n",
    "    # teleportation:\n",
    "    a = sc.broadcast(alpha)\n",
    "    \n",
    "    # damping factor:\n",
    "    d = sc.broadcast(1-a.value)\n",
    "    \n",
    "    # initialize accumulators for dangling mass & total mass\n",
    "    mmAccum = sc.accumulator(0.0, FloatAccumulatorParam())\n",
    "    totAccum = sc.accumulator(0.0, FloatAccumulatorParam())\n",
    "    \n",
    "    ############## YOUR CODE HERE ###############\n",
    "    \n",
    "    # write your helper functions here, \n",
    "    # please document the purpose of each clearly \n",
    "    # for reference, the master solution has 5 helper functions.\n",
    "\n",
    "\n",
    "            \n",
    "    \n",
    "    \n",
    "    \n",
    "    \n",
    "    \n",
    "    \n",
    "    \n",
    "    \n",
    "    \n",
    "    \n",
    "    \n",
    "    \n",
    "    \n",
    "        \n",
    "    # write your main Spark Job here (including the for loop to iterate)\n",
    "    # for reference, the master solution is 21 lines including comments & whitespace\n",
    "    steadyStateRDD = None  # replace with your code\n",
    "    \n",
    "    \n",
    "    \n",
    "    \n",
    "    \n",
    "    \n",
    "    \n",
    "    \n",
    "    \n",
    "    \n",
    "    ############## (END) YOUR CODE ###############\n",
    "    \n",
    "    return steadyStateRDD"
   ]
  },
  {
   "cell_type": "code",
   "execution_count": null,
   "metadata": {
    "application/vnd.databricks.v1+cell": {
     "inputWidgets": {},
     "nuid": "713ce01a-9fd6-4c03-9e90-33809f13853e",
     "showTitle": false,
     "title": ""
    }
   },
   "outputs": [],
   "source": [
    "# part d - run PageRank on the test graph (RUN THIS CELL AS IS)\n",
    "# NOTE: while developing your code you may want turn on the verbose option\n",
    "nIter = 20\n",
    "testGraphRDD = initGraph(testRDD)\n",
    "start = time.time()\n",
    "test_results = runPageRank(testGraphRDD, alpha = 0.15, maxIter = nIter, verbose = False)\n",
    "print(f'...trained {nIter} iterations in {time.time() - start} seconds.')\n",
    "print(f'Top 20 ranked nodes:')\n",
    "test_results.takeOrdered(20, key=lambda x: - x[1])"
   ]
  },
  {
   "cell_type": "markdown",
   "metadata": {
    "application/vnd.databricks.v1+cell": {
     "inputWidgets": {},
     "nuid": "d67f45f2-6aa2-4d11-82c6-ac75aedce484",
     "showTitle": false,
     "title": ""
    }
   },
   "source": [
    "---\n",
    "__`expected results for the test graph:`__\n",
    "```\n",
    "[(2, 0.3620640495978871),\n",
    " (3, 0.333992700474142),\n",
    " (5, 0.08506399429624555),\n",
    " (4, 0.06030963508473455),\n",
    " (1, 0.04255740809817991),\n",
    " (6, 0.03138662354831139),\n",
    " (8, 0.01692511778009981),\n",
    " (10, 0.01692511778009981),\n",
    " (7, 0.01692511778009981),\n",
    " (9, 0.01692511778009981),\n",
    " (11, 0.01692511778009981)]\n",
    "```\n",
    "---"
   ]
  },
  {
   "cell_type": "code",
   "execution_count": null,
   "metadata": {
    "application/vnd.databricks.v1+cell": {
     "inputWidgets": {},
     "nuid": "b18601a6-727e-4229-af9d-40019e092fd7",
     "showTitle": false,
     "title": ""
    }
   },
   "outputs": [],
   "source": [
    "# part d - run PageRank on the full graph (RUN THIS CELL AS IS)\n",
    "# NOTES: \n",
    "# - wikiGraphRDD should have been computed & cached above!\n",
    "# - Rounding errors after 10 or so decimal places are acceptable\n",
    "# - This will take a long time to run...about 30 minutes on 16 cores\n",
    "nIter = 10\n",
    "start = time.time()\n",
    "full_results = runPageRank(wikiGraphRDD, alpha = 0.15, maxIter = nIter, verbose = True)\n",
    "print(f'\\n...trained {nIter} iterations in {time.time() - start} seconds.\\n')\n",
    "\n",
    "print(f'Top 20-40th ranked nodes:\\n')\n",
    "top_40 = full_results.takeOrdered(40, key=lambda x: - x[1])\n",
    "# print results from 20th to 40th highest PageRank\n",
    "for result in top_40[20:]:\n",
    "    print(result)"
   ]
  },
  {
   "cell_type": "markdown",
   "metadata": {},
   "source": [
    "---\n",
    "**Expected output for pages in top 20-40:**\n",
    "```\n",
    "(9386580, 0.0002956970419566159)\n",
    "(15164193, 0.0002843018514565407)\n",
    "(7576704, 0.00028070286946292773)\n",
    "(12074312, 0.0002789390949918953)\n",
    "(3191491, 0.0002733179890615315)\n",
    "(2797855, 0.0002728954946638793)\n",
    "(11253108, 0.000272424060446348)\n",
    "(13725487, 0.00027020945537652716)\n",
    "(2155467, 0.0002664929816794768)\n",
    "(7835160, 0.00026125677808592145)\n",
    "(4198751, 0.00025892998307531953)\n",
    "(9276255, 0.0002546338645363715)\n",
    "(10469541, 0.0002537014715361682)\n",
    "(11147327, 0.00025154645090952246)\n",
    "(5154210, 0.00024927029620654557)\n",
    "(2396749, 0.0002481158912959703)\n",
    "(3603527, 0.0002465136725657213)\n",
    "(3069099, 0.00023478481004084842)\n",
    "(12430985, 0.0002334928892642041)\n",
    "(9355455, 0.00022658004696908508)\n",
    "```\n",
    " ---"
   ]
  },
  {
   "cell_type": "code",
   "execution_count": null,
   "metadata": {
    "application/vnd.databricks.v1+cell": {
     "inputWidgets": {},
     "nuid": "354f3a73-d425-4ee6-9e60-31e78af24e1e",
     "showTitle": false,
     "title": ""
    }
   },
   "outputs": [],
   "source": [
    "# view record from indexRDD (RUN THIS CELL AS IS)\n",
    "# title\\t indx\\t inDeg\\t outDeg\n",
    "indexRDD.take(1)"
   ]
  },
  {
   "cell_type": "code",
   "execution_count": null,
   "metadata": {
    "application/vnd.databricks.v1+cell": {
     "inputWidgets": {},
     "nuid": "b263bfa5-7489-4efe-bc48-c6d094261fdc",
     "showTitle": false,
     "title": ""
    }
   },
   "outputs": [],
   "source": [
    "# map indexRDD to new format (index, name) (RUN THIS CELL AS IS)\n",
    "namesKV_RDD = indexRDD.map(lambda x: (int(x.split('\\t')[1]), x.split('\\t')[0]))"
   ]
  },
  {
   "cell_type": "code",
   "execution_count": null,
   "metadata": {
    "application/vnd.databricks.v1+cell": {
     "inputWidgets": {},
     "nuid": "2599f841-1631-4052-afe6-adb736d17a66",
     "showTitle": false,
     "title": ""
    }
   },
   "outputs": [],
   "source": [
    "# see new format (RUN THIS CELL AS IS)\n",
    "namesKV_RDD.take(2)"
   ]
  },
  {
   "cell_type": "code",
   "execution_count": null,
   "metadata": {
    "application/vnd.databricks.v1+cell": {
     "inputWidgets": {},
     "nuid": "16e9d1e2-1371-4c58-b8a4-5e96e700d550",
     "showTitle": false,
     "title": ""
    }
   },
   "outputs": [],
   "source": [
    "# part d - What is the top ranked node of the wikiaGraphRDD - (RUN THIS CELL AS IS)\n",
    "top_40_RDD = sc.parallelize(top_40)\n",
    "top_40_RDD.take(1)"
   ]
  },
  {
   "cell_type": "markdown",
   "metadata": {
    "application/vnd.databricks.v1+cell": {
     "inputWidgets": {},
     "nuid": "60a28998-2113-493e-bfe5-4e03f7ffc00d",
     "showTitle": false,
     "title": ""
    }
   },
   "source": [
    "# Question 9 - Pretty Print\n",
    "\n",
    "### Q9 Tasks\n",
    "The indexRDD we created earlier from the indices.txt file contains the titles of the pages and their IDs.\n",
    "\n",
    "* __a) Code:__ Join this dataset with your top 40 results. The print statement provided will display the pages in the top 20-40th positions.\n",
    "\n",
    "* __b) Fill in the blank:__ The title of the page associated with the PageRank score of 0.000279 is _____."
   ]
  },
  {
   "cell_type": "markdown",
   "metadata": {},
   "source": [
    "### Q9 Student Answers:\n",
    "OPTIONAL - if you'd like to save your answers in this notebook: \n",
    "\n",
    "> __b)__ Type your answer here! "
   ]
  },
  {
   "cell_type": "markdown",
   "metadata": {
    "application/vnd.databricks.v1+cell": {
     "inputWidgets": {},
     "nuid": "214ae778-74f0-4a69-80f8-2f1c9f2ea457",
     "showTitle": false,
     "title": ""
    }
   },
   "source": [
    "Join with indexRDD and print pretty"
   ]
  },
  {
   "cell_type": "code",
   "execution_count": null,
   "metadata": {
    "application/vnd.databricks.v1+cell": {
     "inputWidgets": {},
     "nuid": "dbd79f40-9e35-4681-b8b8-9f36131dfa24",
     "showTitle": false,
     "title": ""
    }
   },
   "outputs": [],
   "source": [
    "# part a\n",
    "############## YOUR CODE HERE ###############\n",
    "joinedWithNames = None   # replace with your code\n",
    "############## END YOUR CODE ###############"
   ]
  },
  {
   "cell_type": "code",
   "execution_count": null,
   "metadata": {
    "application/vnd.databricks.v1+cell": {
     "inputWidgets": {},
     "nuid": "2c12903a-ae73-439d-9436-b4a732570d48",
     "showTitle": false,
     "title": ""
    }
   },
   "outputs": [],
   "source": [
    "# part b\n",
    "# Feel free to modify this cell to suit your implementation, but please keep the formatting and sort order.\n",
    "print(\"{:10s}\\t| {:10s}\\t| {}\".format(\"PageRank\",\"Page id\",\"Title\"))\n",
    "print(\"=\"*100)\n",
    "for r in joinedWithNames[20:]:\n",
    "    print (\"{:6f}\\t| {:10d}\\t| {}\".format(r[1][1],r[0],r[1][0]))"
   ]
  },
  {
   "cell_type": "markdown",
   "metadata": {
    "application/vnd.databricks.v1+cell": {
     "inputWidgets": {},
     "nuid": "c12a3c17-a607-4df0-bb19-5e567fea710d",
     "showTitle": false,
     "title": ""
    }
   },
   "source": [
    "# Question 10 - GraphFrames\n",
    "GraphFrames is a graph library which is built on top of the Spark DataFrames API. If you're doing graph-based analysis in the future, this is a great tool that you can use. GraphFrames does calculations like PageRank is about 25% of the time that you can achieve using the map-reduce paradigm you've used up to this point. The goal of this final question is to expose you to this tool so that you at least have some knowledge of its basic functionality.\n",
    "\n",
    "### Q10 Tasks\n",
    "* __a) code + Multiple Choice:__ Load in the Les Misérables data. Which character has their only edge connected to MmeBurgon?\n",
    "* __b) code + Multiple Choice:__ Complete the code to run the GraphFrames implementation of PageRank and report out the top 10 characters. Which character had the third highest PageRank value?"
   ]
  },
  {
   "cell_type": "markdown",
   "metadata": {},
   "source": [
    "### Q10 Student Answers:\n",
    "OPTIONAL - if you'd like to save your answers in this notebook: \n",
    "\n",
    "> __a)__ Type your answer here! \n",
    "\n",
    "> __b)__ Type your answer here! "
   ]
  },
  {
   "cell_type": "code",
   "execution_count": null,
   "metadata": {},
   "outputs": [],
   "source": [
    "!pip install graphframes"
   ]
  },
  {
   "cell_type": "code",
   "execution_count": null,
   "metadata": {
    "application/vnd.databricks.v1+cell": {
     "inputWidgets": {},
     "nuid": "dd1246ac-dbfe-419a-8a70-be63784964b2",
     "showTitle": false,
     "title": ""
    }
   },
   "outputs": [],
   "source": [
    "# imports\n",
    "import re\n",
    "import ast\n",
    "import time\n",
    "import numpy as np\n",
    "import pandas as pd\n",
    "import seaborn as sns\n",
    "import networkx as nx\n",
    "import matplotlib.pyplot as plt\n",
    "from graphframes import *\n",
    "from pyspark.sql import functions as F\n",
    "from pyspark.sql.types import StringType"
   ]
  },
  {
   "cell_type": "code",
   "execution_count": null,
   "metadata": {
    "application/vnd.databricks.v1+cell": {
     "inputWidgets": {},
     "nuid": "cdcf35dd-6685-4c46-b952-0741a1445483",
     "showTitle": false,
     "title": ""
    }
   },
   "outputs": [],
   "source": [
    "# part a - (RUN CELL AS IS)\n",
    "\n",
    "# load in the les miserable network \n",
    "G = nx.les_miserables_graph()\n",
    "\n",
    "# take a look at the graph (you can RUN CELL AS IS or feel free adjust the view)\n",
    "fig, ax = plt.subplots(figsize=(16, 16)) \n",
    "nx.draw(G, with_labels=True, ax=ax, node_color='#4bcffa')"
   ]
  },
  {
   "cell_type": "code",
   "execution_count": null,
   "metadata": {
    "application/vnd.databricks.v1+cell": {
     "inputWidgets": {},
     "nuid": "2a7cc69f-9255-4e66-b38e-4f220c19978b",
     "showTitle": false,
     "title": ""
    }
   },
   "outputs": [],
   "source": [
    "# creates the vertices and edges (RUN CELL AS IS)\n",
    "vertices = spark.createDataFrame(list(G.nodes), StringType())\n",
    "edges = spark.createDataFrame(list(G.edges))\n",
    "\n",
    "vertices = vertices.select(vertices.value.alias('id')).distinct()\n",
    "\n",
    "edges = edges.withColumnRenamed('_1','src')\n",
    "edges = edges.withColumnRenamed('_2','dst')"
   ]
  },
  {
   "cell_type": "code",
   "execution_count": null,
   "metadata": {
    "application/vnd.databricks.v1+cell": {
     "inputWidgets": {},
     "nuid": "3e0acb8d-549e-498e-8ee8-dde9f1bf9567",
     "showTitle": false,
     "title": ""
    }
   },
   "outputs": [],
   "source": [
    "# take a look at the vertices (RUN CELL AS IS)\n",
    "vertices.show(10)"
   ]
  },
  {
   "cell_type": "code",
   "execution_count": null,
   "metadata": {
    "application/vnd.databricks.v1+cell": {
     "inputWidgets": {},
     "nuid": "075775ec-3195-4693-8a43-ed34de1e4dd2",
     "showTitle": false,
     "title": ""
    }
   },
   "outputs": [],
   "source": [
    "# take a look at the edges (RUN CELL AS IS)\n",
    "edges.show(10)"
   ]
  },
  {
   "cell_type": "code",
   "execution_count": null,
   "metadata": {},
   "outputs": [],
   "source": [
    "# part b\n",
    "# Create a GraphFrame\n",
    "f = GraphFrame(vertices, edges)\n",
    "\n",
    "# TODO: call the pageRank algorithm, with resetProbability=0.15 and maxIter=10\n",
    "# Don't worry about the warnings\n",
    "############## YOUR CODE HERE ###############\n",
    "results = None\n",
    "############## END YOUR CODE ###############"
   ]
  },
  {
   "cell_type": "code",
   "execution_count": null,
   "metadata": {
    "application/vnd.databricks.v1+cell": {
     "inputWidgets": {},
     "nuid": "9cc1d995-e196-498d-b7fc-ba0890ddf733",
     "showTitle": false,
     "title": ""
    }
   },
   "outputs": [],
   "source": [
    "# part b (continued)\n",
    "\n",
    "# TODO: order the results in descending order and limit to the top 10 characters\n",
    "start = time.time()\n",
    "############## YOUR CODE HERE ###############\n",
    "top_10 = None  # replace with your code. HINT: top_10 = results.vertices...\n",
    "\n",
    "############## END YOUR CODE ###############\n",
    "print(f'... completed job in {time.time() - start} seconds.')"
   ]
  },
  {
   "cell_type": "code",
   "execution_count": null,
   "metadata": {
    "application/vnd.databricks.v1+cell": {
     "inputWidgets": {},
     "nuid": "b8d965cb-2ec0-4b5f-99d7-6314855b1ba9",
     "showTitle": false,
     "title": ""
    }
   },
   "outputs": [],
   "source": [
    "%%time\n",
    "# part b (continued)\n",
    "top_10.show()"
   ]
  },
  {
   "cell_type": "markdown",
   "metadata": {
    "application/vnd.databricks.v1+cell": {
     "inputWidgets": {},
     "nuid": "283e566b-62ce-4cbf-a596-61af41a10cf4",
     "showTitle": false,
     "title": ""
    }
   },
   "source": [
    "### Congratulations, you have completed the last homework for 261! "
   ]
  }
 ],
 "metadata": {
  "application/vnd.databricks.v1+notebook": {
   "dashboards": [],
   "language": "python",
   "notebookMetadata": {
    "pythonIndentUnit": 4
   },
   "notebookName": "hw5_workbook",
   "notebookOrigID": 2232281932179490,
   "widgets": {}
  },
  "kernelspec": {
   "display_name": "Python 3",
   "language": "python",
   "name": "python3"
  },
  "language_info": {
   "codemirror_mode": {
    "name": "ipython",
    "version": 3
   },
   "file_extension": ".py",
   "mimetype": "text/x-python",
   "name": "python",
   "nbconvert_exporter": "python",
   "pygments_lexer": "ipython3",
   "version": "3.8.15"
  },
  "toc-autonumbering": false
 },
 "nbformat": 4,
 "nbformat_minor": 4
}